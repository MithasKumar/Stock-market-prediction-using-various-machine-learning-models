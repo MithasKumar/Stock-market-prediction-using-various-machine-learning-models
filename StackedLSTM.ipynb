{
 "cells": [
  {
   "cell_type": "markdown",
   "metadata": {
    "id": "H2u1duCiSBiY"
   },
   "source": [
    "### Stock Market Prediction And Forecasting Using Stacked LSTM"
   ]
  },
  {
   "cell_type": "code",
   "execution_count": null,
   "metadata": {
    "id": "IiOodqxgSBid"
   },
   "outputs": [],
   "source": [
    "# Keras and Tensorflow >2.0\n",
    "# Tiingo api for data"
   ]
  },
  {
   "cell_type": "code",
   "execution_count": null,
   "metadata": {
    "id": "goAuUgdwSBie"
   },
   "outputs": [],
   "source": [
    "### Data Collection\n",
    "import pandas_datareader as pdr"
   ]
  },
  {
   "cell_type": "code",
   "execution_count": null,
   "metadata": {
    "id": "VCrN59VaSBig"
   },
   "outputs": [],
   "source": [
    "#Importing data of TATA Motors (TTM)\n",
    "df = pdr.get_data_tiingo('TTM', api_key=' ')"
   ]
  },
  {
   "cell_type": "code",
   "execution_count": null,
   "metadata": {
    "id": "E3PCyM2WSBig"
   },
   "outputs": [],
   "source": [
    "df.to_csv('TTM.csv')"
   ]
  },
  {
   "cell_type": "code",
   "execution_count": null,
   "metadata": {
    "id": "jJRwtJ13SBii"
   },
   "outputs": [],
   "source": [
    "import pandas as pd"
   ]
  },
  {
   "cell_type": "code",
   "execution_count": null,
   "metadata": {
    "id": "TUGwu_XASBij"
   },
   "outputs": [],
   "source": [
    "df=pd.read_csv('TTM.csv')"
   ]
  },
  {
   "cell_type": "code",
   "execution_count": null,
   "metadata": {
    "colab": {
     "base_uri": "https://localhost:8080/",
     "height": 204
    },
    "id": "hWR2RBBOSBij",
    "outputId": "5a510833-9f8d-4012-c19c-44d02beacea6"
   },
   "outputs": [
    {
     "data": {
      "text/html": [
       "<div>\n",
       "<style scoped>\n",
       "    .dataframe tbody tr th:only-of-type {\n",
       "        vertical-align: middle;\n",
       "    }\n",
       "\n",
       "    .dataframe tbody tr th {\n",
       "        vertical-align: top;\n",
       "    }\n",
       "\n",
       "    .dataframe thead th {\n",
       "        text-align: right;\n",
       "    }\n",
       "</style>\n",
       "<table border=\"1\" class=\"dataframe\">\n",
       "  <thead>\n",
       "    <tr style=\"text-align: right;\">\n",
       "      <th></th>\n",
       "      <th>symbol</th>\n",
       "      <th>date</th>\n",
       "      <th>close</th>\n",
       "      <th>high</th>\n",
       "      <th>low</th>\n",
       "      <th>open</th>\n",
       "      <th>volume</th>\n",
       "      <th>adjClose</th>\n",
       "      <th>adjHigh</th>\n",
       "      <th>adjLow</th>\n",
       "      <th>adjOpen</th>\n",
       "      <th>adjVolume</th>\n",
       "      <th>divCash</th>\n",
       "      <th>splitFactor</th>\n",
       "    </tr>\n",
       "  </thead>\n",
       "  <tbody>\n",
       "    <tr>\n",
       "      <th>0</th>\n",
       "      <td>TTM</td>\n",
       "      <td>2016-03-28 00:00:00+00:00</td>\n",
       "      <td>27.31</td>\n",
       "      <td>27.3800</td>\n",
       "      <td>27.010</td>\n",
       "      <td>27.31</td>\n",
       "      <td>712982</td>\n",
       "      <td>27.300954</td>\n",
       "      <td>27.370930</td>\n",
       "      <td>27.001053</td>\n",
       "      <td>27.300954</td>\n",
       "      <td>712982</td>\n",
       "      <td>0.0</td>\n",
       "      <td>1.0</td>\n",
       "    </tr>\n",
       "    <tr>\n",
       "      <th>1</th>\n",
       "      <td>TTM</td>\n",
       "      <td>2016-03-29 00:00:00+00:00</td>\n",
       "      <td>28.67</td>\n",
       "      <td>28.8000</td>\n",
       "      <td>27.670</td>\n",
       "      <td>27.73</td>\n",
       "      <td>1999612</td>\n",
       "      <td>28.660503</td>\n",
       "      <td>28.790460</td>\n",
       "      <td>27.660834</td>\n",
       "      <td>27.720814</td>\n",
       "      <td>1999612</td>\n",
       "      <td>0.0</td>\n",
       "      <td>1.0</td>\n",
       "    </tr>\n",
       "    <tr>\n",
       "      <th>2</th>\n",
       "      <td>TTM</td>\n",
       "      <td>2016-03-30 00:00:00+00:00</td>\n",
       "      <td>29.03</td>\n",
       "      <td>29.4589</td>\n",
       "      <td>28.795</td>\n",
       "      <td>29.21</td>\n",
       "      <td>1715476</td>\n",
       "      <td>29.020384</td>\n",
       "      <td>29.449142</td>\n",
       "      <td>28.785462</td>\n",
       "      <td>29.200324</td>\n",
       "      <td>1715476</td>\n",
       "      <td>0.0</td>\n",
       "      <td>1.0</td>\n",
       "    </tr>\n",
       "    <tr>\n",
       "      <th>3</th>\n",
       "      <td>TTM</td>\n",
       "      <td>2016-03-31 00:00:00+00:00</td>\n",
       "      <td>29.05</td>\n",
       "      <td>29.1900</td>\n",
       "      <td>28.900</td>\n",
       "      <td>28.94</td>\n",
       "      <td>881586</td>\n",
       "      <td>29.040377</td>\n",
       "      <td>29.180331</td>\n",
       "      <td>28.890427</td>\n",
       "      <td>28.930414</td>\n",
       "      <td>881586</td>\n",
       "      <td>0.0</td>\n",
       "      <td>1.0</td>\n",
       "    </tr>\n",
       "    <tr>\n",
       "      <th>4</th>\n",
       "      <td>TTM</td>\n",
       "      <td>2016-04-01 00:00:00+00:00</td>\n",
       "      <td>28.72</td>\n",
       "      <td>28.7600</td>\n",
       "      <td>28.100</td>\n",
       "      <td>28.30</td>\n",
       "      <td>912464</td>\n",
       "      <td>28.710487</td>\n",
       "      <td>28.750473</td>\n",
       "      <td>28.090692</td>\n",
       "      <td>28.290626</td>\n",
       "      <td>912464</td>\n",
       "      <td>0.0</td>\n",
       "      <td>1.0</td>\n",
       "    </tr>\n",
       "  </tbody>\n",
       "</table>\n",
       "</div>"
      ],
      "text/plain": [
       "  symbol                       date  close  ...  adjVolume  divCash  splitFactor\n",
       "0    TTM  2016-03-28 00:00:00+00:00  27.31  ...     712982      0.0          1.0\n",
       "1    TTM  2016-03-29 00:00:00+00:00  28.67  ...    1999612      0.0          1.0\n",
       "2    TTM  2016-03-30 00:00:00+00:00  29.03  ...    1715476      0.0          1.0\n",
       "3    TTM  2016-03-31 00:00:00+00:00  29.05  ...     881586      0.0          1.0\n",
       "4    TTM  2016-04-01 00:00:00+00:00  28.72  ...     912464      0.0          1.0\n",
       "\n",
       "[5 rows x 14 columns]"
      ]
     },
     "execution_count": 8,
     "metadata": {
      "tags": []
     },
     "output_type": "execute_result"
    }
   ],
   "source": [
    "df.head()"
   ]
  },
  {
   "cell_type": "code",
   "execution_count": null,
   "metadata": {
    "colab": {
     "base_uri": "https://localhost:8080/",
     "height": 204
    },
    "id": "pEyBh0hASBil",
    "outputId": "e1c123a4-7980-43c1-efcc-2dcc25207018"
   },
   "outputs": [
    {
     "data": {
      "text/html": [
       "<div>\n",
       "<style scoped>\n",
       "    .dataframe tbody tr th:only-of-type {\n",
       "        vertical-align: middle;\n",
       "    }\n",
       "\n",
       "    .dataframe tbody tr th {\n",
       "        vertical-align: top;\n",
       "    }\n",
       "\n",
       "    .dataframe thead th {\n",
       "        text-align: right;\n",
       "    }\n",
       "</style>\n",
       "<table border=\"1\" class=\"dataframe\">\n",
       "  <thead>\n",
       "    <tr style=\"text-align: right;\">\n",
       "      <th></th>\n",
       "      <th>symbol</th>\n",
       "      <th>date</th>\n",
       "      <th>close</th>\n",
       "      <th>high</th>\n",
       "      <th>low</th>\n",
       "      <th>open</th>\n",
       "      <th>volume</th>\n",
       "      <th>adjClose</th>\n",
       "      <th>adjHigh</th>\n",
       "      <th>adjLow</th>\n",
       "      <th>adjOpen</th>\n",
       "      <th>adjVolume</th>\n",
       "      <th>divCash</th>\n",
       "      <th>splitFactor</th>\n",
       "    </tr>\n",
       "  </thead>\n",
       "  <tbody>\n",
       "    <tr>\n",
       "      <th>1252</th>\n",
       "      <td>TTM</td>\n",
       "      <td>2021-03-17 00:00:00+00:00</td>\n",
       "      <td>21.33</td>\n",
       "      <td>21.36</td>\n",
       "      <td>20.23</td>\n",
       "      <td>20.87</td>\n",
       "      <td>1700706</td>\n",
       "      <td>21.33</td>\n",
       "      <td>21.36</td>\n",
       "      <td>20.23</td>\n",
       "      <td>20.87</td>\n",
       "      <td>1700706</td>\n",
       "      <td>0.0</td>\n",
       "      <td>1.0</td>\n",
       "    </tr>\n",
       "    <tr>\n",
       "      <th>1253</th>\n",
       "      <td>TTM</td>\n",
       "      <td>2021-03-18 00:00:00+00:00</td>\n",
       "      <td>20.71</td>\n",
       "      <td>21.10</td>\n",
       "      <td>20.62</td>\n",
       "      <td>21.03</td>\n",
       "      <td>1081152</td>\n",
       "      <td>20.71</td>\n",
       "      <td>21.10</td>\n",
       "      <td>20.62</td>\n",
       "      <td>21.03</td>\n",
       "      <td>1081152</td>\n",
       "      <td>0.0</td>\n",
       "      <td>1.0</td>\n",
       "    </tr>\n",
       "    <tr>\n",
       "      <th>1254</th>\n",
       "      <td>TTM</td>\n",
       "      <td>2021-03-19 00:00:00+00:00</td>\n",
       "      <td>21.22</td>\n",
       "      <td>21.34</td>\n",
       "      <td>20.79</td>\n",
       "      <td>20.96</td>\n",
       "      <td>1172907</td>\n",
       "      <td>21.22</td>\n",
       "      <td>21.34</td>\n",
       "      <td>20.79</td>\n",
       "      <td>20.96</td>\n",
       "      <td>1172907</td>\n",
       "      <td>0.0</td>\n",
       "      <td>1.0</td>\n",
       "    </tr>\n",
       "    <tr>\n",
       "      <th>1255</th>\n",
       "      <td>TTM</td>\n",
       "      <td>2021-03-22 00:00:00+00:00</td>\n",
       "      <td>20.93</td>\n",
       "      <td>21.00</td>\n",
       "      <td>20.57</td>\n",
       "      <td>20.89</td>\n",
       "      <td>994065</td>\n",
       "      <td>20.93</td>\n",
       "      <td>21.00</td>\n",
       "      <td>20.57</td>\n",
       "      <td>20.89</td>\n",
       "      <td>994065</td>\n",
       "      <td>0.0</td>\n",
       "      <td>1.0</td>\n",
       "    </tr>\n",
       "    <tr>\n",
       "      <th>1256</th>\n",
       "      <td>TTM</td>\n",
       "      <td>2021-03-23 00:00:00+00:00</td>\n",
       "      <td>20.67</td>\n",
       "      <td>21.10</td>\n",
       "      <td>20.65</td>\n",
       "      <td>20.99</td>\n",
       "      <td>1441686</td>\n",
       "      <td>20.67</td>\n",
       "      <td>21.10</td>\n",
       "      <td>20.65</td>\n",
       "      <td>20.99</td>\n",
       "      <td>1441686</td>\n",
       "      <td>0.0</td>\n",
       "      <td>1.0</td>\n",
       "    </tr>\n",
       "  </tbody>\n",
       "</table>\n",
       "</div>"
      ],
      "text/plain": [
       "     symbol                       date  close  ...  adjVolume  divCash  splitFactor\n",
       "1252    TTM  2021-03-17 00:00:00+00:00  21.33  ...    1700706      0.0          1.0\n",
       "1253    TTM  2021-03-18 00:00:00+00:00  20.71  ...    1081152      0.0          1.0\n",
       "1254    TTM  2021-03-19 00:00:00+00:00  21.22  ...    1172907      0.0          1.0\n",
       "1255    TTM  2021-03-22 00:00:00+00:00  20.93  ...     994065      0.0          1.0\n",
       "1256    TTM  2021-03-23 00:00:00+00:00  20.67  ...    1441686      0.0          1.0\n",
       "\n",
       "[5 rows x 14 columns]"
      ]
     },
     "execution_count": 9,
     "metadata": {
      "tags": []
     },
     "output_type": "execute_result"
    }
   ],
   "source": [
    "df.tail()"
   ]
  },
  {
   "cell_type": "code",
   "execution_count": null,
   "metadata": {
    "id": "uHSET7qVSBim"
   },
   "outputs": [],
   "source": [
    "df1=df.reset_index()['close']"
   ]
  },
  {
   "cell_type": "code",
   "execution_count": null,
   "metadata": {
    "colab": {
     "base_uri": "https://localhost:8080/"
    },
    "id": "Udjip3E6SBin",
    "outputId": "cfa2e2ec-9109-4f65-c64d-6986e5668435"
   },
   "outputs": [
    {
     "data": {
      "text/plain": [
       "0       27.31\n",
       "1       28.67\n",
       "2       29.03\n",
       "3       29.05\n",
       "4       28.72\n",
       "        ...  \n",
       "1252    21.33\n",
       "1253    20.71\n",
       "1254    21.22\n",
       "1255    20.93\n",
       "1256    20.67\n",
       "Name: close, Length: 1257, dtype: float64"
      ]
     },
     "execution_count": 11,
     "metadata": {
      "tags": []
     },
     "output_type": "execute_result"
    }
   ],
   "source": [
    "df1"
   ]
  },
  {
   "cell_type": "code",
   "execution_count": null,
   "metadata": {
    "colab": {
     "base_uri": "https://localhost:8080/",
     "height": 543
    },
    "id": "Khr4zr5DSBio",
    "outputId": "e63567d5-729a-4a1d-98b5-9a17f5c21858"
   },
   "outputs": [
    {
     "data": {
      "text/plain": [
       "[<matplotlib.lines.Line2D at 0x7f15baaa1510>]"
      ]
     },
     "execution_count": 57,
     "metadata": {
      "tags": []
     },
     "output_type": "execute_result"
    },
    {
     "data": {
      "image/png": "[encoded data removed]",
      "text/plain": [
       "<Figure size 1152x576 with 1 Axes>"
      ]
     },
     "metadata": {
      "needs_background": "light",
      "tags": []
     },
     "output_type": "display_data"
    }
   ],
   "source": [
    "import matplotlib.pyplot as plt\n",
    "plt.figure(figsize=(16,8))\n",
    "plt.title('Close Price History of TATA Motors (TTM)', fontsize=20)\n",
    "plt.xlabel('Days',fontsize=18)\n",
    "plt.ylabel('Close Price USD $',fontsize=18)\n",
    "plt.plot(df1)"
   ]
  },
  {
   "cell_type": "code",
   "execution_count": null,
   "metadata": {
    "id": "-oHvEP0CSBio"
   },
   "outputs": [],
   "source": [
    "### LSTM are sensitive to the scale of the data. so we apply MinMax scaler "
   ]
  },
  {
   "cell_type": "code",
   "execution_count": null,
   "metadata": {
    "id": "3nOn-pymSBio"
   },
   "outputs": [],
   "source": [
    "import numpy as np"
   ]
  },
  {
   "cell_type": "code",
   "execution_count": null,
   "metadata": {
    "colab": {
     "base_uri": "https://localhost:8080/"
    },
    "id": "4PiYNbBSSBio",
    "outputId": "524f536e-b323-446a-889f-5d3b650128d1"
   },
   "outputs": [
    {
     "data": {
      "text/plain": [
       "0       27.31\n",
       "1       28.67\n",
       "2       29.03\n",
       "3       29.05\n",
       "4       28.72\n",
       "        ...  \n",
       "1252    21.33\n",
       "1253    20.71\n",
       "1254    21.22\n",
       "1255    20.93\n",
       "1256    20.67\n",
       "Name: close, Length: 1257, dtype: float64"
      ]
     },
     "execution_count": 17,
     "metadata": {
      "tags": []
     },
     "output_type": "execute_result"
    }
   ],
   "source": [
    "df1"
   ]
  },
  {
   "cell_type": "code",
   "execution_count": null,
   "metadata": {
    "id": "-2723nzXSBip"
   },
   "outputs": [],
   "source": [
    "from sklearn.preprocessing import MinMaxScaler\n",
    "scaler=MinMaxScaler(feature_range=(0,1))\n",
    "df1=scaler.fit_transform(np.array(df1).reshape(-1,1))"
   ]
  },
  {
   "cell_type": "code",
   "execution_count": null,
   "metadata": {
    "colab": {
     "base_uri": "https://localhost:8080/"
    },
    "id": "JpQi2u35SBip",
    "outputId": "be6fe288-52fe-4c59-a0ea-aa212176bed1"
   },
   "outputs": [
    {
     "name": "stdout",
     "output_type": "stream",
     "text": [
      "[[0.57771699]\n",
      " [0.61153942]\n",
      " [0.62049241]\n",
      " ...\n",
      " [0.42626212]\n",
      " [0.41904999]\n",
      " [0.41258393]]\n"
     ]
    }
   ],
   "source": [
    "print(df1)"
   ]
  },
  {
   "cell_type": "code",
   "execution_count": null,
   "metadata": {
    "id": "juIdFfj-SBiq"
   },
   "outputs": [],
   "source": [
    "##splitting dataset into train and test split\n",
    "training_size=int(len(df1)*0.65)                  # 65% data as traing data\n",
    "test_size=len(df1)-training_size\n",
    "train_data,test_data=df1[0:training_size,:],df1[training_size:len(df1),:1]"
   ]
  },
  {
   "cell_type": "code",
   "execution_count": null,
   "metadata": {
    "colab": {
     "base_uri": "https://localhost:8080/"
    },
    "id": "95-Sg3D1SBiq",
    "outputId": "41ba3606-5bad-436f-f4de-38457e051b31"
   },
   "outputs": [
    {
     "data": {
      "text/plain": [
       "(817, 440)"
      ]
     },
     "execution_count": 21,
     "metadata": {
      "tags": []
     },
     "output_type": "execute_result"
    }
   ],
   "source": [
    "training_size,test_size"
   ]
  },
  {
   "cell_type": "code",
   "execution_count": null,
   "metadata": {
    "colab": {
     "base_uri": "https://localhost:8080/"
    },
    "id": "_gdxUB9RSBir",
    "outputId": "50e10ed8-1714-498c-9c0a-eeaa2ac76fbd"
   },
   "outputs": [
    {
     "data": {
      "text/plain": [
       "array([[0.57771699],\n",
       "       [0.61153942],\n",
       "       [0.62049241],\n",
       "       [0.6209898 ],\n",
       "       [0.61278289],\n",
       "       [0.61850286],\n",
       "       [0.5904004 ],\n",
       "       [0.59636906],\n",
       "       [0.58766476],\n",
       "       [0.59636906],\n",
       "       [0.62173589],\n",
       "       [0.63715494],\n",
       "       [0.67097737],\n",
       "       [0.66550609],\n",
       "       [0.66998259],\n",
       "       [0.65804526],\n",
       "       [0.66426262],\n",
       "       [0.66451132],\n",
       "       [0.66674956],\n",
       "       [0.67694603],\n",
       "       [0.65854265],\n",
       "       [0.68316339],\n",
       "       [0.67868689],\n",
       "       [0.66227307],\n",
       "       [0.65406615],\n",
       "       [0.65705048],\n",
       "       [0.64710271],\n",
       "       [0.60432728],\n",
       "       [0.62024372],\n",
       "       [0.6341706 ],\n",
       "       [0.63193236],\n",
       "       [0.6209898 ],\n",
       "       [0.59860731],\n",
       "       [0.61402636],\n",
       "       [0.61402636],\n",
       "       [0.62720716],\n",
       "       [0.60059687],\n",
       "       [0.60954986],\n",
       "       [0.60581945],\n",
       "       [0.61328028],\n",
       "       [0.59612037],\n",
       "       [0.62347675],\n",
       "       [0.64013927],\n",
       "       [0.63790102],\n",
       "       [0.63964188],\n",
       "       [0.7314101 ],\n",
       "       [0.72718229],\n",
       "       [0.74832131],\n",
       "       [0.75105695],\n",
       "       [0.76697339],\n",
       "       [0.7751803 ],\n",
       "       [0.78388461],\n",
       "       [0.77343944],\n",
       "       [0.74732654],\n",
       "       [0.73315096],\n",
       "       [0.72842576],\n",
       "       [0.74260134],\n",
       "       [0.75230042],\n",
       "       [0.76473514],\n",
       "       [0.78562547],\n",
       "       [0.79010196],\n",
       "       [0.79010196],\n",
       "       [0.81347923],\n",
       "       [0.74135787],\n",
       "       [0.69982591],\n",
       "       [0.72842576],\n",
       "       [0.7356379 ],\n",
       "       [0.76075603],\n",
       "       [0.76249689],\n",
       "       [0.74334743],\n",
       "       [0.74857001],\n",
       "       [0.75802039],\n",
       "       [0.77841333],\n",
       "       [0.80054713],\n",
       "       [0.8017906 ],\n",
       "       [0.79184283],\n",
       "       [0.79706541],\n",
       "       [0.80751057],\n",
       "       [0.81546879],\n",
       "       [0.81298185],\n",
       "       [0.81422532],\n",
       "       [0.81397662],\n",
       "       [0.82715742],\n",
       "       [0.82069137],\n",
       "       [0.83188262],\n",
       "       [0.83436956],\n",
       "       [0.83113653],\n",
       "       [0.83934345],\n",
       "       [0.84332256],\n",
       "       [0.81273315],\n",
       "       [0.81646357],\n",
       "       [0.84680428],\n",
       "       [0.86844069],\n",
       "       [0.86819199],\n",
       "       [0.86471027],\n",
       "       [0.83735389],\n",
       "       [0.84804775],\n",
       "       [0.86073116],\n",
       "       [0.85501119],\n",
       "       [0.859239  ],\n",
       "       [0.85824422],\n",
       "       [0.86172594],\n",
       "       [0.850286  ],\n",
       "       [0.84232778],\n",
       "       [0.83785128],\n",
       "       [0.82317831],\n",
       "       [0.84183039],\n",
       "       [0.86247202],\n",
       "       [0.88833623],\n",
       "       [0.88908232],\n",
       "       [0.91245959],\n",
       "       [0.92414822],\n",
       "       [0.94876896],\n",
       "       [0.99875653],\n",
       "       [1.        ],\n",
       "       [0.9868192 ],\n",
       "       [0.9472768 ],\n",
       "       [0.95697588],\n",
       "       [0.93210644],\n",
       "       [0.93956727],\n",
       "       [0.94031335],\n",
       "       [0.92613778],\n",
       "       [0.93136036],\n",
       "       [0.91793086],\n",
       "       [0.93086297],\n",
       "       [0.93633425],\n",
       "       [0.91892564],\n",
       "       [0.89032579],\n",
       "       [0.89281273],\n",
       "       [0.90798309],\n",
       "       [0.87639891],\n",
       "       [0.89281273],\n",
       "       [0.91793086],\n",
       "       [0.91420045],\n",
       "       [0.94528724],\n",
       "       [0.93061428],\n",
       "       [0.94752549],\n",
       "       [0.94478985],\n",
       "       [0.93633425],\n",
       "       [0.9293708 ],\n",
       "       [0.90549615],\n",
       "       [0.9248943 ],\n",
       "       [0.91221089],\n",
       "       [0.91967172],\n",
       "       [0.92613778],\n",
       "       [0.91395175],\n",
       "       [0.90450137],\n",
       "       [0.91842825],\n",
       "       [0.90848048],\n",
       "       [0.86595374],\n",
       "       [0.86943546],\n",
       "       [0.88261626],\n",
       "       [0.87863715],\n",
       "       [0.86993285],\n",
       "       [0.84008953],\n",
       "       [0.83834867],\n",
       "       [0.83884606],\n",
       "       [0.87092763],\n",
       "       [0.90101965],\n",
       "       [0.88858493],\n",
       "       [0.87316588],\n",
       "       [0.82914698],\n",
       "       [0.76946033],\n",
       "       [0.75404128],\n",
       "       [0.7401144 ],\n",
       "       [0.74956478],\n",
       "       [0.74633176],\n",
       "       [0.74260134],\n",
       "       [0.74334743],\n",
       "       [0.73190749],\n",
       "       [0.72991793],\n",
       "       [0.71250933],\n",
       "       [0.72345188],\n",
       "       [0.72096493],\n",
       "       [0.70455111],\n",
       "       [0.69435464],\n",
       "       [0.69932853],\n",
       "       [0.70455111],\n",
       "       [0.72743099],\n",
       "       [0.75354389],\n",
       "       [0.74359612],\n",
       "       [0.76995772],\n",
       "       [0.75901517],\n",
       "       [0.74608306],\n",
       "       [0.74807262],\n",
       "       [0.75876648],\n",
       "       [0.75802039],\n",
       "       [0.7577717 ],\n",
       "       [0.76299428],\n",
       "       [0.75130565],\n",
       "       [0.74533698],\n",
       "       [0.7490674 ],\n",
       "       [0.7311614 ],\n",
       "       [0.75006217],\n",
       "       [0.75379259],\n",
       "       [0.78189505],\n",
       "       [0.79258891],\n",
       "       [0.80875404],\n",
       "       [0.80228799],\n",
       "       [0.82516787],\n",
       "       [0.84730167],\n",
       "       [0.85625466],\n",
       "       [0.84207908],\n",
       "       [0.84456603],\n",
       "       [0.84879383],\n",
       "       [0.85227555],\n",
       "       [0.86247202],\n",
       "       [0.85401641],\n",
       "       [0.86968416],\n",
       "       [0.89355882],\n",
       "       [0.89629445],\n",
       "       [0.89554837],\n",
       "       [0.89107187],\n",
       "       [0.8634668 ],\n",
       "       [0.86744591],\n",
       "       [0.88286496],\n",
       "       [0.87316588],\n",
       "       [0.86495897],\n",
       "       [0.86272072],\n",
       "       [0.83412087],\n",
       "       [0.84680428],\n",
       "       [0.84456603],\n",
       "       [0.8458095 ],\n",
       "       [0.82914698],\n",
       "       [0.72942054],\n",
       "       [0.70405372],\n",
       "       [0.72046755],\n",
       "       [0.73066401],\n",
       "       [0.75652823],\n",
       "       [0.75727431],\n",
       "       [0.75379259],\n",
       "       [0.75205173],\n",
       "       [0.74409351],\n",
       "       [0.73389704],\n",
       "       [0.7401144 ],\n",
       "       [0.76000995],\n",
       "       [0.76423775],\n",
       "       [0.76423775],\n",
       "       [0.76050734],\n",
       "       [0.75876648],\n",
       "       [0.7622482 ],\n",
       "       [0.77294205],\n",
       "       [0.79656802],\n",
       "       [0.79084805],\n",
       "       [0.80527232],\n",
       "       [0.81124098],\n",
       "       [0.80378015],\n",
       "       [0.80925143],\n",
       "       [0.78786372],\n",
       "       [0.78264113],\n",
       "       [0.78662024],\n",
       "       [0.78736633],\n",
       "       [0.79507585],\n",
       "       [0.79830888],\n",
       "       [0.78811241],\n",
       "       [0.78885849],\n",
       "       [0.78512808],\n",
       "       [0.77915941],\n",
       "       [0.77891072],\n",
       "       [0.78935588],\n",
       "       [0.79532455],\n",
       "       [0.79607063],\n",
       "       [0.80850535],\n",
       "       [0.79109674],\n",
       "       [0.7796568 ],\n",
       "       [0.7619995 ],\n",
       "       [0.766476  ],\n",
       "       [0.73961701],\n",
       "       [0.74409351],\n",
       "       [0.7488187 ],\n",
       "       [0.73713007],\n",
       "       [0.74857001],\n",
       "       [0.76050734],\n",
       "       [0.77642378],\n",
       "       [0.78239244],\n",
       "       [0.78562547],\n",
       "       [0.77319075],\n",
       "       [0.76423775],\n",
       "       [0.76150211],\n",
       "       [0.74210395],\n",
       "       [0.71250933],\n",
       "       [0.7135041 ],\n",
       "       [0.7135041 ],\n",
       "       [0.7314101 ],\n",
       "       [0.73041532],\n",
       "       [0.73812484],\n",
       "       [0.74160657],\n",
       "       [0.74857001],\n",
       "       [0.74931609],\n",
       "       [0.74110918],\n",
       "       [0.75528476],\n",
       "       [0.766476  ],\n",
       "       [0.81397662],\n",
       "       [0.78910719],\n",
       "       [0.80775926],\n",
       "       [0.82044268],\n",
       "       [0.8149714 ],\n",
       "       [0.81447401],\n",
       "       [0.82168615],\n",
       "       [0.82641134],\n",
       "       [0.81870182],\n",
       "       [0.79010196],\n",
       "       [0.78388461],\n",
       "       [0.78662024],\n",
       "       [0.78214375],\n",
       "       [0.76921164],\n",
       "       [0.76946033],\n",
       "       [0.77194728],\n",
       "       [0.76423775],\n",
       "       [0.76597861],\n",
       "       [0.77319075],\n",
       "       [0.78438199],\n",
       "       [0.76946033],\n",
       "       [0.76796817],\n",
       "       [0.74409351],\n",
       "       [0.74757523],\n",
       "       [0.74334743],\n",
       "       [0.74732654],\n",
       "       [0.72743099],\n",
       "       [0.71947277],\n",
       "       [0.72544143],\n",
       "       [0.72867446],\n",
       "       [0.72320318],\n",
       "       [0.73190749],\n",
       "       [0.75503606],\n",
       "       [0.76622731],\n",
       "       [0.78264113],\n",
       "       [0.77791594],\n",
       "       [0.77791594],\n",
       "       [0.77368814],\n",
       "       [0.76896294],\n",
       "       [0.79134544],\n",
       "       [0.7799055 ],\n",
       "       [0.78612286],\n",
       "       [0.7841333 ],\n",
       "       [0.775429  ],\n",
       "       [0.78264113],\n",
       "       [0.75627953],\n",
       "       [0.75901517],\n",
       "       [0.75503606],\n",
       "       [0.76572992],\n",
       "       [0.76249689],\n",
       "       [0.75553345],\n",
       "       [0.76448645],\n",
       "       [0.74309873],\n",
       "       [0.73240487],\n",
       "       [0.68191992],\n",
       "       [0.62944541],\n",
       "       [0.62969411],\n",
       "       [0.63839841],\n",
       "       [0.63118627],\n",
       "       [0.64585924],\n",
       "       [0.63068888],\n",
       "       [0.62770455],\n",
       "       [0.62049241],\n",
       "       [0.62670977],\n",
       "       [0.64088535],\n",
       "       [0.64287491],\n",
       "       [0.64436707],\n",
       "       [0.64013927],\n",
       "       [0.63665755],\n",
       "       [0.64063666],\n",
       "       [0.64113405],\n",
       "       [0.65804526],\n",
       "       [0.64834618],\n",
       "       [0.64983835],\n",
       "       [0.63939319],\n",
       "       [0.63566277],\n",
       "       [0.63814971],\n",
       "       [0.65928873],\n",
       "       [0.6565531 ],\n",
       "       [0.67296692],\n",
       "       [0.67644864],\n",
       "       [0.68987814],\n",
       "       [0.69982591],\n",
       "       [0.69037553],\n",
       "       [0.68888336],\n",
       "       [0.68813728],\n",
       "       [0.67172345],\n",
       "       [0.67744342],\n",
       "       [0.66152698],\n",
       "       [0.65779657],\n",
       "       [0.67619995],\n",
       "       [0.6873912 ],\n",
       "       [0.69385725],\n",
       "       [0.69957722],\n",
       "       [0.70106939],\n",
       "       [0.7003233 ],\n",
       "       [0.70106939],\n",
       "       [0.70106939],\n",
       "       [0.68888336],\n",
       "       [0.69709028],\n",
       "       [0.71400149],\n",
       "       [0.72618752],\n",
       "       [0.71474758],\n",
       "       [0.71574235],\n",
       "       [0.7179806 ],\n",
       "       [0.71300671],\n",
       "       [0.69833375],\n",
       "       [0.69907983],\n",
       "       [0.69733897],\n",
       "       [0.70131808],\n",
       "       [0.71325541],\n",
       "       [0.72743099],\n",
       "       [0.71325541],\n",
       "       [0.71897538],\n",
       "       [0.72444666],\n",
       "       [0.73961701],\n",
       "       [0.76896294],\n",
       "       [0.72966924],\n",
       "       [0.73638398],\n",
       "       [0.72071624],\n",
       "       [0.70231286],\n",
       "       [0.69410594],\n",
       "       [0.68490425],\n",
       "       [0.67968167],\n",
       "       [0.68962945],\n",
       "       [0.70629197],\n",
       "       [0.70330763],\n",
       "       [0.71226063],\n",
       "       [0.71648844],\n",
       "       [0.71275802],\n",
       "       [0.69907983],\n",
       "       [0.69907983],\n",
       "       [0.68341209],\n",
       "       [0.6742104 ],\n",
       "       [0.66376523],\n",
       "       [0.67271823],\n",
       "       [0.67222084],\n",
       "       [0.65953743],\n",
       "       [0.67172345],\n",
       "       [0.68390948],\n",
       "       [0.69037553],\n",
       "       [0.68216861],\n",
       "       [0.67545387],\n",
       "       [0.67868689],\n",
       "       [0.6784382 ],\n",
       "       [0.68540164],\n",
       "       [0.70803283],\n",
       "       [0.71250933],\n",
       "       [0.71499627],\n",
       "       [0.71499627],\n",
       "       [0.71872668],\n",
       "       [0.71002238],\n",
       "       [0.70231286],\n",
       "       [0.72096493],\n",
       "       [0.75205173],\n",
       "       [0.74235265],\n",
       "       [0.73638398],\n",
       "       [0.74086048],\n",
       "       [0.74533698],\n",
       "       [0.75006217],\n",
       "       [0.73787615],\n",
       "       [0.75130565],\n",
       "       [0.75205173],\n",
       "       [0.72195971],\n",
       "       [0.72071624],\n",
       "       [0.70952499],\n",
       "       [0.72171102],\n",
       "       [0.71623974],\n",
       "       [0.70281025],\n",
       "       [0.68341209],\n",
       "       [0.67047998],\n",
       "       [0.67868689],\n",
       "       [0.67470778],\n",
       "       [0.67097737],\n",
       "       [0.66849043],\n",
       "       [0.66625218],\n",
       "       [0.63839841],\n",
       "       [0.59885601],\n",
       "       [0.62621238],\n",
       "       [0.62248197],\n",
       "       [0.60233773],\n",
       "       [0.60532206],\n",
       "       [0.61153942],\n",
       "       [0.61054464],\n",
       "       [0.62670977],\n",
       "       [0.625715  ],\n",
       "       [0.61502114],\n",
       "       [0.61029595],\n",
       "       [0.59413081],\n",
       "       [0.58741607],\n",
       "       [0.59562298],\n",
       "       [0.61924894],\n",
       "       [0.60432728],\n",
       "       [0.59537429],\n",
       "       [0.59437951],\n",
       "       [0.59413081],\n",
       "       [0.5769709 ],\n",
       "       [0.5724944 ],\n",
       "       [0.56727182],\n",
       "       [0.56503357],\n",
       "       [0.56453619],\n",
       "       [0.57448396],\n",
       "       [0.57871176],\n",
       "       [0.57597613],\n",
       "       [0.57075354],\n",
       "       [0.55608058],\n",
       "       [0.53941806],\n",
       "       [0.53817458],\n",
       "       [0.54016414],\n",
       "       [0.53270331],\n",
       "       [0.51778165],\n",
       "       [0.53021636],\n",
       "       [0.53593633],\n",
       "       [0.53071375],\n",
       "       [0.53767719],\n",
       "       [0.53693111],\n",
       "       [0.55135538],\n",
       "       [0.57995524],\n",
       "       [0.58542651],\n",
       "       [0.57846307],\n",
       "       [0.57597613],\n",
       "       [0.57498135],\n",
       "       [0.57473265],\n",
       "       [0.57423526],\n",
       "       [0.56304402],\n",
       "       [0.54886844],\n",
       "       [0.5374285 ],\n",
       "       [0.53444417],\n",
       "       [0.52350162],\n",
       "       [0.51653817],\n",
       "       [0.51653817],\n",
       "       [0.51131559],\n",
       "       [0.50435215],\n",
       "       [0.51206168],\n",
       "       [0.52076598],\n",
       "       [0.52325292],\n",
       "       [0.53021636],\n",
       "       [0.52200945],\n",
       "       [0.51355384],\n",
       "       [0.52176076],\n",
       "       [0.5200199 ],\n",
       "       [0.51305645],\n",
       "       [0.52275553],\n",
       "       [0.5108182 ],\n",
       "       [0.50285999],\n",
       "       [0.48943049],\n",
       "       [0.46282019],\n",
       "       [0.46829147],\n",
       "       [0.47102711],\n",
       "       [0.4536185 ],\n",
       "       [0.44640637],\n",
       "       [0.46829147],\n",
       "       [0.45535936],\n",
       "       [0.4230291 ],\n",
       "       [0.42850037],\n",
       "       [0.42526735],\n",
       "       [0.4230291 ],\n",
       "       [0.41780652],\n",
       "       [0.43123601],\n",
       "       [0.4272569 ],\n",
       "       [0.42949515],\n",
       "       [0.44963939],\n",
       "       [0.4538672 ],\n",
       "       [0.46207411],\n",
       "       [0.46480975],\n",
       "       [0.46530714],\n",
       "       [0.46058194],\n",
       "       [0.4536185 ],\n",
       "       [0.4493907 ],\n",
       "       [0.46182542],\n",
       "       [0.44864462],\n",
       "       [0.45486197],\n",
       "       [0.45038548],\n",
       "       [0.45187764],\n",
       "       [0.41730913],\n",
       "       [0.40189008],\n",
       "       [0.38597364],\n",
       "       [0.37726934],\n",
       "       [0.38473017],\n",
       "       [0.39094753],\n",
       "       [0.3874658 ],\n",
       "       [0.37925889],\n",
       "       [0.39318577],\n",
       "       [0.39791097],\n",
       "       [0.40014922],\n",
       "       [0.38249192],\n",
       "       [0.38348669],\n",
       "       [0.37627456],\n",
       "       [0.35861726],\n",
       "       [0.36781895],\n",
       "       [0.35836857],\n",
       "       [0.35613032],\n",
       "       [0.35588162],\n",
       "       [0.36085551],\n",
       "       [0.3655807 ],\n",
       "       [0.37527978],\n",
       "       [0.36458592],\n",
       "       [0.37726934],\n",
       "       [0.38075106],\n",
       "       [0.35115643],\n",
       "       [0.37204675],\n",
       "       [0.37105198],\n",
       "       [0.36732156],\n",
       "       [0.3611042 ],\n",
       "       [0.35289729],\n",
       "       [0.35836857],\n",
       "       [0.3568764 ],\n",
       "       [0.34294952],\n",
       "       [0.33175827],\n",
       "       [0.33200696],\n",
       "       [0.3257896 ],\n",
       "       [0.33996518],\n",
       "       [0.35538423],\n",
       "       [0.37353892],\n",
       "       [0.37503109],\n",
       "       [0.36980851],\n",
       "       [0.35065904],\n",
       "       [0.35488684],\n",
       "       [0.36284506],\n",
       "       [0.36060681],\n",
       "       [0.35861726],\n",
       "       [0.34742601],\n",
       "       [0.35986073],\n",
       "       [0.35364337],\n",
       "       [0.3566277 ],\n",
       "       [0.35737379],\n",
       "       [0.36707287],\n",
       "       [0.36533201],\n",
       "       [0.35438946],\n",
       "       [0.35414076],\n",
       "       [0.3523999 ],\n",
       "       [0.34717732],\n",
       "       [0.33797563],\n",
       "       [0.33399652],\n",
       "       [0.34170604],\n",
       "       [0.34195474],\n",
       "       [0.32479483],\n",
       "       [0.30987317],\n",
       "       [0.30813231],\n",
       "       [0.30067147],\n",
       "       [0.28599851],\n",
       "       [0.28052723],\n",
       "       [0.28574981],\n",
       "       [0.28450634],\n",
       "       [0.28102462],\n",
       "       [0.26983337],\n",
       "       [0.25963691],\n",
       "       [0.2556578 ],\n",
       "       [0.21636409],\n",
       "       [0.20144243],\n",
       "       [0.19895548],\n",
       "       [0.20616762],\n",
       "       [0.20865456],\n",
       "       [0.21313106],\n",
       "       [0.1984581 ],\n",
       "       [0.19298682],\n",
       "       [0.19423029],\n",
       "       [0.18726685],\n",
       "       [0.1937329 ],\n",
       "       [0.18179557],\n",
       "       [0.18875902],\n",
       "       [0.18676946],\n",
       "       [0.19497637],\n",
       "       [0.19920418],\n",
       "       [0.20218851],\n",
       "       [0.21313106],\n",
       "       [0.2158667 ],\n",
       "       [0.2200945 ],\n",
       "       [0.22208406],\n",
       "       [0.22631186],\n",
       "       [0.22307884],\n",
       "       [0.224571  ],\n",
       "       [0.19995026],\n",
       "       [0.20144243],\n",
       "       [0.20343198],\n",
       "       [0.21114151],\n",
       "       [0.21089281],\n",
       "       [0.21661278],\n",
       "       [0.21238498],\n",
       "       [0.22233275],\n",
       "       [0.21909973],\n",
       "       [0.21810495],\n",
       "       [0.21337976],\n",
       "       [0.20964934],\n",
       "       [0.20865456],\n",
       "       [0.20193982],\n",
       "       [0.2069137 ],\n",
       "       [0.19920418],\n",
       "       [0.18353643],\n",
       "       [0.17856255],\n",
       "       [0.16388958],\n",
       "       [0.16712261],\n",
       "       [0.18477991],\n",
       "       [0.18652077],\n",
       "       [0.18527729],\n",
       "       [0.19696593],\n",
       "       [0.20343198],\n",
       "       [0.19497637],\n",
       "       [0.20765979],\n",
       "       [0.20616762],\n",
       "       [0.19870679],\n",
       "       [0.20467545],\n",
       "       [0.19895548],\n",
       "       [0.20467545],\n",
       "       [0.20144243],\n",
       "       [0.1984581 ],\n",
       "       [0.18975379],\n",
       "       [0.21039542],\n",
       "       [0.21561801],\n",
       "       [0.22084059],\n",
       "       [0.22656056],\n",
       "       [0.23103706],\n",
       "       [0.21810495],\n",
       "       [0.21561801],\n",
       "       [0.22158667],\n",
       "       [0.22357622],\n",
       "       [0.22133798],\n",
       "       [0.22084059],\n",
       "       [0.20890326],\n",
       "       [0.21288237],\n",
       "       [0.20343198],\n",
       "       [0.20616762],\n",
       "       [0.20218851],\n",
       "       [0.20517284],\n",
       "       [0.2113902 ],\n",
       "       [0.22357622],\n",
       "       [0.21934842],\n",
       "       [0.21238498],\n",
       "       [0.20492415],\n",
       "       [0.2116389 ],\n",
       "       [0.18204427],\n",
       "       [0.15991047],\n",
       "       [0.16239741],\n",
       "       [0.16786869],\n",
       "       [0.17209649],\n",
       "       [0.17781646],\n",
       "       [0.17856255],\n",
       "       [0.18627207],\n",
       "       [0.19124596],\n",
       "       [0.19199204],\n",
       "       [0.20666501],\n",
       "       [0.2071624 ],\n",
       "       [0.21810495],\n",
       "       [0.20616762],\n",
       "       [0.20940065],\n",
       "       [0.22283014],\n",
       "       [0.21959712],\n",
       "       [0.23949266],\n",
       "       [0.23601094],\n",
       "       [0.22929619],\n",
       "       [0.21934842],\n",
       "       [0.22407361],\n",
       "       [0.22556578],\n",
       "       [0.22432231],\n",
       "       [0.21909973],\n",
       "       [0.21959712],\n",
       "       [0.22656056],\n",
       "       [0.22730664],\n",
       "       [0.22332753],\n",
       "       [0.224571  ],\n",
       "       [0.20741109],\n",
       "       [0.20392937],\n",
       "       [0.21039542],\n",
       "       [0.20119373],\n",
       "       [0.20392937],\n",
       "       [0.21089281],\n",
       "       [0.24297438],\n",
       "       [0.25690127],\n",
       "       [0.26361602],\n",
       "       [0.27157424],\n",
       "       [0.27033076],\n",
       "       [0.25913952],\n",
       "       [0.26560557],\n",
       "       [0.29047501],\n",
       "       [0.2862472 ],\n",
       "       [0.2949515 ],\n",
       "       [0.30664014],\n",
       "       [0.30489928],\n",
       "       [0.31360358],\n",
       "       [0.32380005],\n",
       "       [0.31484705],\n",
       "       [0.308381  ],\n",
       "       [0.29246456],\n",
       "       [0.28823676],\n",
       "       [0.28823676],\n",
       "       [0.2864959 ],\n",
       "       [0.28152201],\n",
       "       [0.27505596],\n",
       "       [0.26908729],\n",
       "       [0.27480726],\n",
       "       [0.26038299],\n",
       "       [0.23625964],\n",
       "       [0.23203183],\n",
       "       [0.23078836],\n",
       "       [0.23476747],\n",
       "       [0.21536931],\n",
       "       [0.224571  ],\n",
       "       [0.21238498],\n",
       "       [0.21263367],\n",
       "       [0.2069137 ],\n",
       "       [0.22432231],\n",
       "       [0.21711017],\n",
       "       [0.21114151],\n",
       "       [0.21039542],\n",
       "       [0.22059189],\n",
       "       [0.21437453],\n",
       "       [0.21387714],\n",
       "       [0.21462323],\n",
       "       [0.20964934],\n",
       "       [0.21387714],\n",
       "       [0.21387714],\n",
       "       [0.20940065],\n",
       "       [0.20392937],\n",
       "       [0.20417807],\n",
       "       [0.19248943],\n",
       "       [0.20567023],\n",
       "       [0.1982094 ],\n",
       "       [0.19572246],\n",
       "       [0.18676946],\n",
       "       [0.18129818],\n",
       "       [0.1895051 ],\n",
       "       [0.17731907],\n",
       "       [0.18428252],\n",
       "       [0.18279035],\n",
       "       [0.18179557]])"
      ]
     },
     "execution_count": 22,
     "metadata": {
      "tags": []
     },
     "output_type": "execute_result"
    }
   ],
   "source": [
    "train_data"
   ]
  },
  {
   "cell_type": "markdown",
   "metadata": {
    "id": "EGjRM_sKS38f"
   },
   "source": [
    "## Data preprocessing"
   ]
  },
  {
   "cell_type": "code",
   "execution_count": null,
   "metadata": {
    "id": "aqF37YC7SBir"
   },
   "outputs": [],
   "source": [
    "import numpy\n",
    "# convert an array of values into a dataset matrix\n",
    "def create_dataset(dataset, time_step=1):\n",
    "\tdataX, dataY = [], []\n",
    "\tfor i in range(len(dataset)-time_step-1):\n",
    "\t\ta = dataset[i:(i+time_step), 0]   ###i=0, 0,1,2,3-----99   100 \n",
    "\t\tdataX.append(a)\n",
    "\t\tdataY.append(dataset[i + time_step, 0])\n",
    "\treturn numpy.array(dataX), numpy.array(dataY)"
   ]
  },
  {
   "cell_type": "code",
   "execution_count": null,
   "metadata": {
    "id": "Brb7cWIZSBir"
   },
   "outputs": [],
   "source": [
    "# reshape into X=t,t+1,t+2,t+3 and Y=t+4\n",
    "time_step = 100\n",
    "X_train, y_train = create_dataset(train_data, time_step)\n",
    "X_test, ytest = create_dataset(test_data, time_step)"
   ]
  },
  {
   "cell_type": "code",
   "execution_count": null,
   "metadata": {
    "colab": {
     "base_uri": "https://localhost:8080/"
    },
    "id": "NNDjlvQbSBis",
    "outputId": "b0bb1450-1a47-4c90-8c1c-23ddeaa6e8a5"
   },
   "outputs": [
    {
     "name": "stdout",
     "output_type": "stream",
     "text": [
      "(716, 100)\n",
      "(716,)\n"
     ]
    },
    {
     "data": {
      "text/plain": [
       "(None, None)"
      ]
     },
     "execution_count": 25,
     "metadata": {
      "tags": []
     },
     "output_type": "execute_result"
    }
   ],
   "source": [
    "print(X_train.shape), print(y_train.shape)"
   ]
  },
  {
   "cell_type": "code",
   "execution_count": null,
   "metadata": {
    "colab": {
     "base_uri": "https://localhost:8080/"
    },
    "id": "6Ce5sK6XSBis",
    "outputId": "16a4937f-aea2-4d80-ae0c-c8ffbd82f218"
   },
   "outputs": [
    {
     "name": "stdout",
     "output_type": "stream",
     "text": [
      "(339, 100)\n",
      "(339,)\n"
     ]
    },
    {
     "data": {
      "text/plain": [
       "(None, None)"
      ]
     },
     "execution_count": 26,
     "metadata": {
      "tags": []
     },
     "output_type": "execute_result"
    }
   ],
   "source": [
    "print(X_test.shape), print(ytest.shape)"
   ]
  },
  {
   "cell_type": "code",
   "execution_count": null,
   "metadata": {
    "id": "cr6U7-LQSBis"
   },
   "outputs": [],
   "source": [
    "# reshape input to be [samples, time steps, features] which is required for LSTM\n",
    "X_train =X_train.reshape(X_train.shape[0],X_train.shape[1] , 1)\n",
    "X_test = X_test.reshape(X_test.shape[0],X_test.shape[1] , 1)"
   ]
  },
  {
   "cell_type": "code",
   "execution_count": null,
   "metadata": {
    "id": "n5Lm5nPPSBit"
   },
   "outputs": [],
   "source": [
    "### Create the Stacked LSTM model\n",
    "from tensorflow.keras.models import Sequential\n",
    "from tensorflow.keras.layers import Dense\n",
    "from tensorflow.keras.layers import LSTM"
   ]
  },
  {
   "cell_type": "code",
   "execution_count": null,
   "metadata": {
    "id": "9cNWaDPfSBiu"
   },
   "outputs": [],
   "source": [
    "model=Sequential()\n",
    "model.add(LSTM(50,return_sequences=True,input_shape=(100,1)))\n",
    "model.add(LSTM(50,return_sequences=True))\n",
    "model.add(LSTM(50))\n",
    "model.add(Dense(1))\n",
    "model.compile(loss='mean_squared_error',optimizer='adam')\n"
   ]
  },
  {
   "cell_type": "code",
   "execution_count": null,
   "metadata": {
    "colab": {
     "base_uri": "https://localhost:8080/"
    },
    "id": "n5_hZzN7SBiv",
    "outputId": "fa79968f-5b75-47cd-f69c-e17ddd20f03f"
   },
   "outputs": [
    {
     "name": "stdout",
     "output_type": "stream",
     "text": [
      "Model: \"sequential\"\n",
      "_________________________________________________________________\n",
      "Layer (type)                 Output Shape              Param #   \n",
      "=================================================================\n",
      "lstm (LSTM)                  (None, 100, 50)           10400     \n",
      "_________________________________________________________________\n",
      "lstm_1 (LSTM)                (None, 100, 50)           20200     \n",
      "_________________________________________________________________\n",
      "lstm_2 (LSTM)                (None, 50)                20200     \n",
      "_________________________________________________________________\n",
      "dense (Dense)                (None, 1)                 51        \n",
      "=================================================================\n",
      "Total params: 50,851\n",
      "Trainable params: 50,851\n",
      "Non-trainable params: 0\n",
      "_________________________________________________________________\n"
     ]
    }
   ],
   "source": [
    "model.summary()"
   ]
  },
  {
   "cell_type": "code",
   "execution_count": null,
   "metadata": {
    "colab": {
     "base_uri": "https://localhost:8080/"
    },
    "id": "k7ekmrQVSBiw",
    "outputId": "c44e13ff-122b-4c6b-e46b-5e81062604c4"
   },
   "outputs": [
    {
     "name": "stdout",
     "output_type": "stream",
     "text": [
      "Model: \"sequential\"\n",
      "_________________________________________________________________\n",
      "Layer (type)                 Output Shape              Param #   \n",
      "=================================================================\n",
      "lstm (LSTM)                  (None, 100, 50)           10400     \n",
      "_________________________________________________________________\n",
      "lstm_1 (LSTM)                (None, 100, 50)           20200     \n",
      "_________________________________________________________________\n",
      "lstm_2 (LSTM)                (None, 50)                20200     \n",
      "_________________________________________________________________\n",
      "dense (Dense)                (None, 1)                 51        \n",
      "=================================================================\n",
      "Total params: 50,851\n",
      "Trainable params: 50,851\n",
      "Non-trainable params: 0\n",
      "_________________________________________________________________\n"
     ]
    }
   ],
   "source": [
    "model.summary()"
   ]
  },
  {
   "cell_type": "code",
   "execution_count": null,
   "metadata": {
    "id": "596KHbXZSBiw"
   },
   "outputs": [],
   "source": []
  },
  {
   "cell_type": "code",
   "execution_count": null,
   "metadata": {
    "colab": {
     "base_uri": "https://localhost:8080/"
    },
    "id": "P5HqWuivSBix",
    "outputId": "04b5eaf7-3f5f-41e2-9273-d4b56433fd22"
   },
   "outputs": [
    {
     "name": "stdout",
     "output_type": "stream",
     "text": [
      "Epoch 1/100\n",
      "12/12 [==============================] - 8s 299ms/step - loss: 0.1999 - val_loss: 0.0076\n",
      "Epoch 2/100\n",
      "12/12 [==============================] - 2s 188ms/step - loss: 0.0189 - val_loss: 0.0190\n",
      "Epoch 3/100\n",
      "12/12 [==============================] - 2s 187ms/step - loss: 0.0090 - val_loss: 0.0048\n",
      "Epoch 4/100\n",
      "12/12 [==============================] - 2s 186ms/step - loss: 0.0037 - val_loss: 0.0024\n",
      "Epoch 5/100\n",
      "12/12 [==============================] - 2s 186ms/step - loss: 0.0023 - val_loss: 0.0020\n",
      "Epoch 6/100\n",
      "12/12 [==============================] - 2s 191ms/step - loss: 0.0019 - val_loss: 0.0023\n",
      "Epoch 7/100\n",
      "12/12 [==============================] - 2s 190ms/step - loss: 0.0017 - val_loss: 0.0023\n",
      "Epoch 8/100\n",
      "12/12 [==============================] - 2s 192ms/step - loss: 0.0018 - val_loss: 0.0021\n",
      "Epoch 9/100\n",
      "12/12 [==============================] - 2s 191ms/step - loss: 0.0018 - val_loss: 0.0020\n",
      "Epoch 10/100\n",
      "12/12 [==============================] - 2s 195ms/step - loss: 0.0019 - val_loss: 0.0018\n",
      "Epoch 11/100\n",
      "12/12 [==============================] - 2s 193ms/step - loss: 0.0017 - val_loss: 0.0019\n",
      "Epoch 12/100\n",
      "12/12 [==============================] - 2s 189ms/step - loss: 0.0017 - val_loss: 0.0019\n",
      "Epoch 13/100\n",
      "12/12 [==============================] - 2s 193ms/step - loss: 0.0017 - val_loss: 0.0019\n",
      "Epoch 14/100\n",
      "12/12 [==============================] - 2s 189ms/step - loss: 0.0018 - val_loss: 0.0018\n",
      "Epoch 15/100\n",
      "12/12 [==============================] - 2s 192ms/step - loss: 0.0018 - val_loss: 0.0017\n",
      "Epoch 16/100\n",
      "12/12 [==============================] - 2s 191ms/step - loss: 0.0017 - val_loss: 0.0017\n",
      "Epoch 17/100\n",
      "12/12 [==============================] - 2s 192ms/step - loss: 0.0016 - val_loss: 0.0018\n",
      "Epoch 18/100\n",
      "12/12 [==============================] - 2s 191ms/step - loss: 0.0016 - val_loss: 0.0019\n",
      "Epoch 19/100\n",
      "12/12 [==============================] - 2s 190ms/step - loss: 0.0018 - val_loss: 0.0019\n",
      "Epoch 20/100\n",
      "12/12 [==============================] - 2s 192ms/step - loss: 0.0019 - val_loss: 0.0018\n",
      "Epoch 21/100\n",
      "12/12 [==============================] - 2s 204ms/step - loss: 0.0018 - val_loss: 0.0016\n",
      "Epoch 22/100\n",
      "12/12 [==============================] - 2s 190ms/step - loss: 0.0016 - val_loss: 0.0017\n",
      "Epoch 23/100\n",
      "12/12 [==============================] - 2s 190ms/step - loss: 0.0022 - val_loss: 0.0019\n",
      "Epoch 24/100\n",
      "12/12 [==============================] - 2s 189ms/step - loss: 0.0018 - val_loss: 0.0016\n",
      "Epoch 25/100\n",
      "12/12 [==============================] - 2s 192ms/step - loss: 0.0016 - val_loss: 0.0016\n",
      "Epoch 26/100\n",
      "12/12 [==============================] - 2s 195ms/step - loss: 0.0016 - val_loss: 0.0015\n",
      "Epoch 27/100\n",
      "12/12 [==============================] - 2s 190ms/step - loss: 0.0014 - val_loss: 0.0015\n",
      "Epoch 28/100\n",
      "12/12 [==============================] - 2s 193ms/step - loss: 0.0016 - val_loss: 0.0016\n",
      "Epoch 29/100\n",
      "12/12 [==============================] - 2s 194ms/step - loss: 0.0015 - val_loss: 0.0016\n",
      "Epoch 30/100\n",
      "12/12 [==============================] - 2s 193ms/step - loss: 0.0016 - val_loss: 0.0014\n",
      "Epoch 31/100\n",
      "12/12 [==============================] - 2s 197ms/step - loss: 0.0015 - val_loss: 0.0014\n",
      "Epoch 32/100\n",
      "12/12 [==============================] - 2s 192ms/step - loss: 0.0015 - val_loss: 0.0016\n",
      "Epoch 33/100\n",
      "12/12 [==============================] - 2s 188ms/step - loss: 0.0017 - val_loss: 0.0014\n",
      "Epoch 34/100\n",
      "12/12 [==============================] - 2s 187ms/step - loss: 0.0014 - val_loss: 0.0014\n",
      "Epoch 35/100\n",
      "12/12 [==============================] - 2s 189ms/step - loss: 0.0013 - val_loss: 0.0013\n",
      "Epoch 36/100\n",
      "12/12 [==============================] - 2s 189ms/step - loss: 0.0014 - val_loss: 0.0013\n",
      "Epoch 37/100\n",
      "12/12 [==============================] - 2s 188ms/step - loss: 0.0013 - val_loss: 0.0014\n",
      "Epoch 38/100\n",
      "12/12 [==============================] - 2s 192ms/step - loss: 0.0013 - val_loss: 0.0012\n",
      "Epoch 39/100\n",
      "12/12 [==============================] - 2s 190ms/step - loss: 0.0014 - val_loss: 0.0013\n",
      "Epoch 40/100\n",
      "12/12 [==============================] - 2s 187ms/step - loss: 0.0014 - val_loss: 0.0013\n",
      "Epoch 41/100\n",
      "12/12 [==============================] - 2s 193ms/step - loss: 0.0014 - val_loss: 0.0012\n",
      "Epoch 42/100\n",
      "12/12 [==============================] - 2s 188ms/step - loss: 0.0012 - val_loss: 0.0013\n",
      "Epoch 43/100\n",
      "12/12 [==============================] - 2s 190ms/step - loss: 0.0015 - val_loss: 0.0011\n",
      "Epoch 44/100\n",
      "12/12 [==============================] - 2s 188ms/step - loss: 0.0013 - val_loss: 0.0013\n",
      "Epoch 45/100\n",
      "12/12 [==============================] - 2s 187ms/step - loss: 0.0015 - val_loss: 0.0011\n",
      "Epoch 46/100\n",
      "12/12 [==============================] - 2s 190ms/step - loss: 0.0014 - val_loss: 0.0012\n",
      "Epoch 47/100\n",
      "12/12 [==============================] - 2s 186ms/step - loss: 0.0012 - val_loss: 0.0011\n",
      "Epoch 48/100\n",
      "12/12 [==============================] - 2s 189ms/step - loss: 0.0012 - val_loss: 0.0011\n",
      "Epoch 49/100\n",
      "12/12 [==============================] - 2s 191ms/step - loss: 0.0011 - val_loss: 0.0010\n",
      "Epoch 50/100\n",
      "12/12 [==============================] - 2s 188ms/step - loss: 0.0011 - val_loss: 0.0010\n",
      "Epoch 51/100\n",
      "12/12 [==============================] - 2s 188ms/step - loss: 0.0012 - val_loss: 9.5827e-04\n",
      "Epoch 52/100\n",
      "12/12 [==============================] - 2s 190ms/step - loss: 0.0012 - val_loss: 0.0011\n",
      "Epoch 53/100\n",
      "12/12 [==============================] - 2s 191ms/step - loss: 0.0010 - val_loss: 9.5411e-04\n",
      "Epoch 54/100\n",
      "12/12 [==============================] - 2s 190ms/step - loss: 9.3121e-04 - val_loss: 9.2533e-04\n",
      "Epoch 55/100\n",
      "12/12 [==============================] - 2s 190ms/step - loss: 0.0010 - val_loss: 8.8848e-04\n",
      "Epoch 56/100\n",
      "12/12 [==============================] - 2s 188ms/step - loss: 9.9331e-04 - val_loss: 9.1649e-04\n",
      "Epoch 57/100\n",
      "12/12 [==============================] - 2s 186ms/step - loss: 0.0011 - val_loss: 9.1068e-04\n",
      "Epoch 58/100\n",
      "12/12 [==============================] - 2s 191ms/step - loss: 9.3093e-04 - val_loss: 9.0291e-04\n",
      "Epoch 59/100\n",
      "12/12 [==============================] - 2s 191ms/step - loss: 0.0012 - val_loss: 8.3623e-04\n",
      "Epoch 60/100\n",
      "12/12 [==============================] - 2s 189ms/step - loss: 0.0011 - val_loss: 8.7666e-04\n",
      "Epoch 61/100\n",
      "12/12 [==============================] - 2s 188ms/step - loss: 9.6002e-04 - val_loss: 8.7828e-04\n",
      "Epoch 62/100\n",
      "12/12 [==============================] - 2s 190ms/step - loss: 8.1211e-04 - val_loss: 8.1651e-04\n",
      "Epoch 63/100\n",
      "12/12 [==============================] - 2s 188ms/step - loss: 9.0325e-04 - val_loss: 9.2872e-04\n",
      "Epoch 64/100\n",
      "12/12 [==============================] - 2s 191ms/step - loss: 0.0011 - val_loss: 8.2514e-04\n",
      "Epoch 65/100\n",
      "12/12 [==============================] - 2s 188ms/step - loss: 8.5855e-04 - val_loss: 7.8466e-04\n",
      "Epoch 66/100\n",
      "12/12 [==============================] - 2s 190ms/step - loss: 8.4655e-04 - val_loss: 8.4042e-04\n",
      "Epoch 67/100\n",
      "12/12 [==============================] - 2s 189ms/step - loss: 8.6613e-04 - val_loss: 9.0477e-04\n",
      "Epoch 68/100\n",
      "12/12 [==============================] - 2s 188ms/step - loss: 9.9495e-04 - val_loss: 8.0131e-04\n",
      "Epoch 69/100\n",
      "12/12 [==============================] - 2s 190ms/step - loss: 9.2079e-04 - val_loss: 7.6363e-04\n",
      "Epoch 70/100\n",
      "12/12 [==============================] - 2s 187ms/step - loss: 0.0012 - val_loss: 0.0011\n",
      "Epoch 71/100\n",
      "12/12 [==============================] - 2s 186ms/step - loss: 0.0014 - val_loss: 8.2190e-04\n",
      "Epoch 72/100\n",
      "12/12 [==============================] - 2s 191ms/step - loss: 8.6318e-04 - val_loss: 7.6605e-04\n",
      "Epoch 73/100\n",
      "12/12 [==============================] - 2s 192ms/step - loss: 8.6724e-04 - val_loss: 7.8378e-04\n",
      "Epoch 74/100\n",
      "12/12 [==============================] - 2s 188ms/step - loss: 8.5800e-04 - val_loss: 8.0975e-04\n",
      "Epoch 75/100\n",
      "12/12 [==============================] - 2s 193ms/step - loss: 7.1188e-04 - val_loss: 7.9150e-04\n",
      "Epoch 76/100\n",
      "12/12 [==============================] - 2s 188ms/step - loss: 7.2686e-04 - val_loss: 7.7655e-04\n",
      "Epoch 77/100\n",
      "12/12 [==============================] - 2s 189ms/step - loss: 6.8304e-04 - val_loss: 8.0142e-04\n",
      "Epoch 78/100\n",
      "12/12 [==============================] - 2s 192ms/step - loss: 7.6883e-04 - val_loss: 7.7514e-04\n",
      "Epoch 79/100\n",
      "12/12 [==============================] - 2s 192ms/step - loss: 7.2124e-04 - val_loss: 7.5476e-04\n",
      "Epoch 80/100\n",
      "12/12 [==============================] - 2s 190ms/step - loss: 6.7876e-04 - val_loss: 7.2027e-04\n",
      "Epoch 81/100\n",
      "12/12 [==============================] - 2s 193ms/step - loss: 8.5281e-04 - val_loss: 7.2763e-04\n",
      "Epoch 82/100\n",
      "12/12 [==============================] - 2s 195ms/step - loss: 6.9015e-04 - val_loss: 7.4973e-04\n",
      "Epoch 83/100\n",
      "12/12 [==============================] - 2s 198ms/step - loss: 6.7700e-04 - val_loss: 7.0631e-04\n",
      "Epoch 84/100\n",
      "12/12 [==============================] - 2s 196ms/step - loss: 0.0011 - val_loss: 7.3683e-04\n",
      "Epoch 85/100\n",
      "12/12 [==============================] - 2s 191ms/step - loss: 0.0010 - val_loss: 8.4890e-04\n",
      "Epoch 86/100\n",
      "12/12 [==============================] - 2s 192ms/step - loss: 8.2252e-04 - val_loss: 7.0948e-04\n",
      "Epoch 87/100\n",
      "12/12 [==============================] - 2s 196ms/step - loss: 7.7910e-04 - val_loss: 7.1121e-04\n",
      "Epoch 88/100\n",
      "12/12 [==============================] - 2s 191ms/step - loss: 8.0877e-04 - val_loss: 8.5038e-04\n",
      "Epoch 89/100\n",
      "12/12 [==============================] - 2s 191ms/step - loss: 8.9368e-04 - val_loss: 7.4768e-04\n",
      "Epoch 90/100\n",
      "12/12 [==============================] - 2s 189ms/step - loss: 7.6859e-04 - val_loss: 6.9341e-04\n",
      "Epoch 91/100\n",
      "12/12 [==============================] - 2s 188ms/step - loss: 7.7920e-04 - val_loss: 7.7470e-04\n",
      "Epoch 92/100\n",
      "12/12 [==============================] - 2s 190ms/step - loss: 8.3668e-04 - val_loss: 7.0727e-04\n",
      "Epoch 93/100\n",
      "12/12 [==============================] - 2s 194ms/step - loss: 6.7073e-04 - val_loss: 6.8377e-04\n",
      "Epoch 94/100\n",
      "12/12 [==============================] - 2s 192ms/step - loss: 6.8574e-04 - val_loss: 6.6481e-04\n",
      "Epoch 95/100\n",
      "12/12 [==============================] - 2s 188ms/step - loss: 6.1189e-04 - val_loss: 6.8212e-04\n",
      "Epoch 96/100\n",
      "12/12 [==============================] - 2s 190ms/step - loss: 6.5023e-04 - val_loss: 7.1956e-04\n",
      "Epoch 97/100\n",
      "12/12 [==============================] - 2s 194ms/step - loss: 6.6582e-04 - val_loss: 6.9904e-04\n",
      "Epoch 98/100\n",
      "12/12 [==============================] - 2s 191ms/step - loss: 9.9536e-04 - val_loss: 6.8040e-04\n",
      "Epoch 99/100\n",
      "12/12 [==============================] - 2s 191ms/step - loss: 7.0727e-04 - val_loss: 7.4204e-04\n",
      "Epoch 100/100\n",
      "12/12 [==============================] - 2s 188ms/step - loss: 7.1320e-04 - val_loss: 6.7863e-04\n"
     ]
    },
    {
     "data": {
      "text/plain": [
       "<tensorflow.python.keras.callbacks.History at 0x7f15bfed58d0>"
      ]
     },
     "execution_count": 32,
     "metadata": {
      "tags": []
     },
     "output_type": "execute_result"
    }
   ],
   "source": [
    "model.fit(X_train,y_train,validation_data=(X_test,ytest),epochs=100,batch_size=64,verbose=1)"
   ]
  },
  {
   "cell_type": "code",
   "execution_count": null,
   "metadata": {
    "id": "uM70MdiySBix"
   },
   "outputs": [],
   "source": [
    "import tensorflow as tf"
   ]
  },
  {
   "cell_type": "code",
   "execution_count": null,
   "metadata": {
    "colab": {
     "base_uri": "https://localhost:8080/",
     "height": 35
    },
    "id": "-vNfLLHaSBix",
    "outputId": "ebe96fab-f140-45e7-f7f1-f6b588cac6a4"
   },
   "outputs": [
    {
     "data": {
      "application/vnd.google.colaboratory.intrinsic+json": {
       "type": "string"
      },
      "text/plain": [
       "'2.4.1'"
      ]
     },
     "execution_count": 34,
     "metadata": {
      "tags": []
     },
     "output_type": "execute_result"
    }
   ],
   "source": [
    "tf.__version__"
   ]
  },
  {
   "cell_type": "code",
   "execution_count": null,
   "metadata": {
    "id": "SCkDtOuDSBix"
   },
   "outputs": [],
   "source": [
    "### Lets Do the prediction and check performance metrics\n",
    "train_predict=model.predict(X_train)\n",
    "test_predict=model.predict(X_test)"
   ]
  },
  {
   "cell_type": "code",
   "execution_count": null,
   "metadata": {
    "id": "oklhLgAuSBiy"
   },
   "outputs": [],
   "source": [
    "##Transformback to original form\n",
    "train_predict=scaler.inverse_transform(train_predict)\n",
    "test_predict=scaler.inverse_transform(test_predict)"
   ]
  },
  {
   "cell_type": "code",
   "execution_count": null,
   "metadata": {
    "colab": {
     "base_uri": "https://localhost:8080/"
    },
    "id": "RKU1LD9ASBiz",
    "outputId": "02c1805f-8276-4ec3-9c9f-d004bf019cbc"
   },
   "outputs": [
    {
     "data": {
      "text/plain": [
       "28.308682130751073"
      ]
     },
     "execution_count": 37,
     "metadata": {
      "tags": []
     },
     "output_type": "execute_result"
    }
   ],
   "source": [
    "### Calculate RMSE performance metrics\n",
    "import math\n",
    "from sklearn.metrics import mean_squared_error\n",
    "math.sqrt(mean_squared_error(y_train,train_predict))"
   ]
  },
  {
   "cell_type": "code",
   "execution_count": null,
   "metadata": {
    "colab": {
     "base_uri": "https://localhost:8080/"
    },
    "id": "jYiBas1fSBiz",
    "outputId": "6b58bc33-cc5c-4d46-c210-00a00ef470cf"
   },
   "outputs": [
    {
     "data": {
      "text/plain": [
       "11.774067407179606"
      ]
     },
     "execution_count": 38,
     "metadata": {
      "tags": []
     },
     "output_type": "execute_result"
    }
   ],
   "source": [
    "### Test Data RMSE\n",
    "math.sqrt(mean_squared_error(ytest,test_predict))"
   ]
  },
  {
   "cell_type": "code",
   "execution_count": null,
   "metadata": {
    "colab": {
     "base_uri": "https://localhost:8080/",
     "height": 526
    },
    "id": "KaGRzXFFSBiz",
    "outputId": "c38524ed-118e-431e-ac63-fdc98f84377a"
   },
   "outputs": [
    {
     "data": {
      "image/png": "[encoded data removed]",
      "text/plain": [
       "<Figure size 1152x576 with 1 Axes>"
      ]
     },
     "metadata": {
      "needs_background": "light",
      "tags": []
     },
     "output_type": "display_data"
    }
   ],
   "source": [
    "### Plotting \n",
    "# shift train predictions for plotting\n",
    "look_back=100\n",
    "trainPredictPlot = numpy.empty_like(df1)\n",
    "trainPredictPlot[:, :] = np.nan\n",
    "trainPredictPlot[look_back:len(train_predict)+look_back, :] = train_predict\n",
    "# shift test predictions for plotting\n",
    "testPredictPlot = numpy.empty_like(df1)\n",
    "testPredictPlot[:, :] = numpy.nan\n",
    "testPredictPlot[len(train_predict)+(look_back*2)+1:len(df1)-1, :] = test_predict\n",
    "# plot baseline and predictions\n",
    "plt.figure(figsize=(16,8))\n",
    "plt.title('Close Price Training and Testing', fontsize=20)\n",
    "plt.xlabel('Days',fontsize=18)\n",
    "plt.ylabel('Close Price USD $',fontsize=18)\n",
    "plt.plot(scaler.inverse_transform(df1))\n",
    "plt.plot(trainPredictPlot)\n",
    "plt.plot(testPredictPlot)\n",
    "plt.show()"
   ]
  },
  {
   "cell_type": "code",
   "execution_count": null,
   "metadata": {
    "colab": {
     "base_uri": "https://localhost:8080/"
    },
    "id": "DcomJHUASBiz",
    "outputId": "9982c313-f79c-411d-8255-df4fe045cc4d"
   },
   "outputs": [
    {
     "data": {
      "text/plain": [
       "440"
      ]
     },
     "execution_count": 40,
     "metadata": {
      "tags": []
     },
     "output_type": "execute_result"
    }
   ],
   "source": [
    "len(test_data)"
   ]
  },
  {
   "cell_type": "code",
   "execution_count": null,
   "metadata": {
    "colab": {
     "base_uri": "https://localhost:8080/"
    },
    "id": "iAwgws4lSBi0",
    "outputId": "013e55d8-776e-43c1-d450-f4d0eebc635c"
   },
   "outputs": [
    {
     "data": {
      "text/plain": [
       "(1, 99)"
      ]
     },
     "execution_count": 41,
     "metadata": {
      "tags": []
     },
     "output_type": "execute_result"
    }
   ],
   "source": [
    "x_input=test_data[341:].reshape(1,-1)\n",
    "x_input.shape\n"
   ]
  },
  {
   "cell_type": "code",
   "execution_count": null,
   "metadata": {
    "id": "g1ahw0-5SBi0"
   },
   "outputs": [],
   "source": [
    "temp_input=list(x_input)\n",
    "temp_input=temp_input[0].tolist()"
   ]
  },
  {
   "cell_type": "code",
   "execution_count": null,
   "metadata": {
    "colab": {
     "base_uri": "https://localhost:8080/"
    },
    "id": "U9kSPQdDSBi0",
    "outputId": "9e7accaf-1e1b-47fa-eeb1-6fb7c08e504d"
   },
   "outputs": [
    {
     "data": {
      "text/plain": [
       "[0.1206167619995026,\n",
       " 0.1166376523252922,\n",
       " 0.12434717731907487,\n",
       " 0.12956975876647597,\n",
       " 0.12932106441183783,\n",
       " 0.13479234021387715,\n",
       " 0.134543645859239,\n",
       " 0.15220094503854759,\n",
       " 0.14797314100969905,\n",
       " 0.1524496393931858,\n",
       " 0.1489679184282517,\n",
       " 0.14797314100969905,\n",
       " 0.15941308132305398,\n",
       " 0.16960954986321808,\n",
       " 0.18776423775180306,\n",
       " 0.18652076597861228,\n",
       " 0.17930862969410594,\n",
       " 0.18353643372295447,\n",
       " 0.18950509823427003,\n",
       " 0.19149465307137525,\n",
       " 0.2064163143496643,\n",
       " 0.19547376274558564,\n",
       " 0.21114150708778912,\n",
       " 0.21288236757025614,\n",
       " 0.21337975627953243,\n",
       " 0.20964934095996018,\n",
       " 0.20989803531459833,\n",
       " 0.20815717483213125,\n",
       " 0.2064163143496643,\n",
       " 0.19671723451877643,\n",
       " 0.19995026112907233,\n",
       " 0.19671723451877643,\n",
       " 0.20542153693111165,\n",
       " 0.21114150708778912,\n",
       " 0.2046754538671972,\n",
       " 0.20144242725690126,\n",
       " 0.17682168614772442,\n",
       " 0.17358865953742852,\n",
       " 0.18826162646107936,\n",
       " 0.1919920417806516,\n",
       " 0.20940064660532204,\n",
       " 0.20591892564038794,\n",
       " 0.21188759015170355,\n",
       " 0.21188759015170355,\n",
       " 0.21586669982591394,\n",
       " 0.22929619497637405,\n",
       " 0.23029097239492663,\n",
       " 0.23302661029594623,\n",
       " 0.23849788609798556,\n",
       " 0.29395672718229293,\n",
       " 0.3101218602337727,\n",
       " 0.3031584183039045,\n",
       " 0.31857746829146977,\n",
       " 0.33523999005222577,\n",
       " 0.3382243223078836,\n",
       " 0.3695598109922905,\n",
       " 0.3974135787117632,\n",
       " 0.3852275553344939,\n",
       " 0.35986073116140266,\n",
       " 0.3573737876150211,\n",
       " 0.3417060432728177,\n",
       " 0.36010942551604075,\n",
       " 0.3414573489181795,\n",
       " 0.38398408356130315,\n",
       " 0.4498880875404129,\n",
       " 0.46107933349912955,\n",
       " 0.4533698085053469,\n",
       " 0.43422034319820935,\n",
       " 0.47973141009699083,\n",
       " 0.45560805769709023,\n",
       " 0.4516289480228798,\n",
       " 0.45187764237751804,\n",
       " 0.46008455608057697,\n",
       " 0.45088286495896546,\n",
       " 0.45461328027853765,\n",
       " 0.4424272569012684,\n",
       " 0.43148470529718974,\n",
       " 0.41979607062919677,\n",
       " 0.44391942302909726,\n",
       " 0.4488933101218602,\n",
       " 0.44864461576722214,\n",
       " 0.44541158915692614,\n",
       " 0.4598358617259388,\n",
       " 0.47923402138771454,\n",
       " 0.48097488187018156,\n",
       " 0.4580950012434718,\n",
       " 0.45361850285998506,\n",
       " 0.43745336980850535,\n",
       " 0.4391942302909724,\n",
       " 0.44342203431982097,\n",
       " 0.45734891817955725,\n",
       " 0.44491420044764984,\n",
       " 0.4429246456105447,\n",
       " 0.4409350907734394,\n",
       " 0.42899776175080817,\n",
       " 0.413578711763243,\n",
       " 0.42626212384978857,\n",
       " 0.4190499875652822,\n",
       " 0.41258393434469043]"
      ]
     },
     "execution_count": 43,
     "metadata": {
      "tags": []
     },
     "output_type": "execute_result"
    }
   ],
   "source": [
    "temp_input"
   ]
  },
  {
   "cell_type": "code",
   "execution_count": null,
   "metadata": {
    "colab": {
     "base_uri": "https://localhost:8080/"
    },
    "id": "UWSj_nqtSBi0",
    "outputId": "047b37b1-d517-456a-d4b9-aa62d4855234"
   },
   "outputs": [
    {
     "name": "stdout",
     "output_type": "stream",
     "text": [
      "WARNING:tensorflow:Model was constructed with shape (None, 100, 1) for input KerasTensor(type_spec=TensorSpec(shape=(None, 100, 1), dtype=tf.float32, name='lstm_input'), name='lstm_input', description=\"created by layer 'lstm_input'\"), but it was called on an input with incompatible shape (None, 99, 1).\n",
      "[0.43060198]\n",
      "100\n",
      "1 day input [0.11663765 0.12434718 0.12956976 0.12932106 0.13479234 0.13454365\n",
      " 0.15220095 0.14797314 0.15244964 0.14896792 0.14797314 0.15941308\n",
      " 0.16960955 0.18776424 0.18652077 0.17930863 0.18353643 0.1895051\n",
      " 0.19149465 0.20641631 0.19547376 0.21114151 0.21288237 0.21337976\n",
      " 0.20964934 0.20989804 0.20815717 0.20641631 0.19671723 0.19995026\n",
      " 0.19671723 0.20542154 0.21114151 0.20467545 0.20144243 0.17682169\n",
      " 0.17358866 0.18826163 0.19199204 0.20940065 0.20591893 0.21188759\n",
      " 0.21188759 0.2158667  0.22929619 0.23029097 0.23302661 0.23849789\n",
      " 0.29395673 0.31012186 0.30315842 0.31857747 0.33523999 0.33822432\n",
      " 0.36955981 0.39741358 0.38522756 0.35986073 0.35737379 0.34170604\n",
      " 0.36010943 0.34145735 0.38398408 0.44988809 0.46107933 0.45336981\n",
      " 0.43422034 0.47973141 0.45560806 0.45162895 0.45187764 0.46008456\n",
      " 0.45088286 0.45461328 0.44242726 0.43148471 0.41979607 0.44391942\n",
      " 0.44889331 0.44864462 0.44541159 0.45983586 0.47923402 0.48097488\n",
      " 0.458095   0.4536185  0.43745337 0.43919423 0.44342203 0.45734892\n",
      " 0.4449142  0.44292465 0.44093509 0.42899776 0.41357871 0.42626212\n",
      " 0.41904999 0.41258393 0.43060198]\n",
      "1 day output [[0.42809364]]\n",
      "2 day input [0.12434718 0.12956976 0.12932106 0.13479234 0.13454365 0.15220095\n",
      " 0.14797314 0.15244964 0.14896792 0.14797314 0.15941308 0.16960955\n",
      " 0.18776424 0.18652077 0.17930863 0.18353643 0.1895051  0.19149465\n",
      " 0.20641631 0.19547376 0.21114151 0.21288237 0.21337976 0.20964934\n",
      " 0.20989804 0.20815717 0.20641631 0.19671723 0.19995026 0.19671723\n",
      " 0.20542154 0.21114151 0.20467545 0.20144243 0.17682169 0.17358866\n",
      " 0.18826163 0.19199204 0.20940065 0.20591893 0.21188759 0.21188759\n",
      " 0.2158667  0.22929619 0.23029097 0.23302661 0.23849789 0.29395673\n",
      " 0.31012186 0.30315842 0.31857747 0.33523999 0.33822432 0.36955981\n",
      " 0.39741358 0.38522756 0.35986073 0.35737379 0.34170604 0.36010943\n",
      " 0.34145735 0.38398408 0.44988809 0.46107933 0.45336981 0.43422034\n",
      " 0.47973141 0.45560806 0.45162895 0.45187764 0.46008456 0.45088286\n",
      " 0.45461328 0.44242726 0.43148471 0.41979607 0.44391942 0.44889331\n",
      " 0.44864462 0.44541159 0.45983586 0.47923402 0.48097488 0.458095\n",
      " 0.4536185  0.43745337 0.43919423 0.44342203 0.45734892 0.4449142\n",
      " 0.44292465 0.44093509 0.42899776 0.41357871 0.42626212 0.41904999\n",
      " 0.41258393 0.43060198 0.42809364]\n",
      "2 day output [[0.427167]]\n",
      "3 day input [0.12956976 0.12932106 0.13479234 0.13454365 0.15220095 0.14797314\n",
      " 0.15244964 0.14896792 0.14797314 0.15941308 0.16960955 0.18776424\n",
      " 0.18652077 0.17930863 0.18353643 0.1895051  0.19149465 0.20641631\n",
      " 0.19547376 0.21114151 0.21288237 0.21337976 0.20964934 0.20989804\n",
      " 0.20815717 0.20641631 0.19671723 0.19995026 0.19671723 0.20542154\n",
      " 0.21114151 0.20467545 0.20144243 0.17682169 0.17358866 0.18826163\n",
      " 0.19199204 0.20940065 0.20591893 0.21188759 0.21188759 0.2158667\n",
      " 0.22929619 0.23029097 0.23302661 0.23849789 0.29395673 0.31012186\n",
      " 0.30315842 0.31857747 0.33523999 0.33822432 0.36955981 0.39741358\n",
      " 0.38522756 0.35986073 0.35737379 0.34170604 0.36010943 0.34145735\n",
      " 0.38398408 0.44988809 0.46107933 0.45336981 0.43422034 0.47973141\n",
      " 0.45560806 0.45162895 0.45187764 0.46008456 0.45088286 0.45461328\n",
      " 0.44242726 0.43148471 0.41979607 0.44391942 0.44889331 0.44864462\n",
      " 0.44541159 0.45983586 0.47923402 0.48097488 0.458095   0.4536185\n",
      " 0.43745337 0.43919423 0.44342203 0.45734892 0.4449142  0.44292465\n",
      " 0.44093509 0.42899776 0.41357871 0.42626212 0.41904999 0.41258393\n",
      " 0.43060198 0.42809364 0.427167  ]\n",
      "3 day output [[0.42740753]]\n",
      "4 day input [0.12932106 0.13479234 0.13454365 0.15220095 0.14797314 0.15244964\n",
      " 0.14896792 0.14797314 0.15941308 0.16960955 0.18776424 0.18652077\n",
      " 0.17930863 0.18353643 0.1895051  0.19149465 0.20641631 0.19547376\n",
      " 0.21114151 0.21288237 0.21337976 0.20964934 0.20989804 0.20815717\n",
      " 0.20641631 0.19671723 0.19995026 0.19671723 0.20542154 0.21114151\n",
      " 0.20467545 0.20144243 0.17682169 0.17358866 0.18826163 0.19199204\n",
      " 0.20940065 0.20591893 0.21188759 0.21188759 0.2158667  0.22929619\n",
      " 0.23029097 0.23302661 0.23849789 0.29395673 0.31012186 0.30315842\n",
      " 0.31857747 0.33523999 0.33822432 0.36955981 0.39741358 0.38522756\n",
      " 0.35986073 0.35737379 0.34170604 0.36010943 0.34145735 0.38398408\n",
      " 0.44988809 0.46107933 0.45336981 0.43422034 0.47973141 0.45560806\n",
      " 0.45162895 0.45187764 0.46008456 0.45088286 0.45461328 0.44242726\n",
      " 0.43148471 0.41979607 0.44391942 0.44889331 0.44864462 0.44541159\n",
      " 0.45983586 0.47923402 0.48097488 0.458095   0.4536185  0.43745337\n",
      " 0.43919423 0.44342203 0.45734892 0.4449142  0.44292465 0.44093509\n",
      " 0.42899776 0.41357871 0.42626212 0.41904999 0.41258393 0.43060198\n",
      " 0.42809364 0.427167   0.42740753]\n",
      "4 day output [[0.42840305]]\n",
      "5 day input [0.13479234 0.13454365 0.15220095 0.14797314 0.15244964 0.14896792\n",
      " 0.14797314 0.15941308 0.16960955 0.18776424 0.18652077 0.17930863\n",
      " 0.18353643 0.1895051  0.19149465 0.20641631 0.19547376 0.21114151\n",
      " 0.21288237 0.21337976 0.20964934 0.20989804 0.20815717 0.20641631\n",
      " 0.19671723 0.19995026 0.19671723 0.20542154 0.21114151 0.20467545\n",
      " 0.20144243 0.17682169 0.17358866 0.18826163 0.19199204 0.20940065\n",
      " 0.20591893 0.21188759 0.21188759 0.2158667  0.22929619 0.23029097\n",
      " 0.23302661 0.23849789 0.29395673 0.31012186 0.30315842 0.31857747\n",
      " 0.33523999 0.33822432 0.36955981 0.39741358 0.38522756 0.35986073\n",
      " 0.35737379 0.34170604 0.36010943 0.34145735 0.38398408 0.44988809\n",
      " 0.46107933 0.45336981 0.43422034 0.47973141 0.45560806 0.45162895\n",
      " 0.45187764 0.46008456 0.45088286 0.45461328 0.44242726 0.43148471\n",
      " 0.41979607 0.44391942 0.44889331 0.44864462 0.44541159 0.45983586\n",
      " 0.47923402 0.48097488 0.458095   0.4536185  0.43745337 0.43919423\n",
      " 0.44342203 0.45734892 0.4449142  0.44292465 0.44093509 0.42899776\n",
      " 0.41357871 0.42626212 0.41904999 0.41258393 0.43060198 0.42809364\n",
      " 0.427167   0.42740753 0.42840305]\n",
      "5 day output [[0.42984185]]\n",
      "6 day input [0.13454365 0.15220095 0.14797314 0.15244964 0.14896792 0.14797314\n",
      " 0.15941308 0.16960955 0.18776424 0.18652077 0.17930863 0.18353643\n",
      " 0.1895051  0.19149465 0.20641631 0.19547376 0.21114151 0.21288237\n",
      " 0.21337976 0.20964934 0.20989804 0.20815717 0.20641631 0.19671723\n",
      " 0.19995026 0.19671723 0.20542154 0.21114151 0.20467545 0.20144243\n",
      " 0.17682169 0.17358866 0.18826163 0.19199204 0.20940065 0.20591893\n",
      " 0.21188759 0.21188759 0.2158667  0.22929619 0.23029097 0.23302661\n",
      " 0.23849789 0.29395673 0.31012186 0.30315842 0.31857747 0.33523999\n",
      " 0.33822432 0.36955981 0.39741358 0.38522756 0.35986073 0.35737379\n",
      " 0.34170604 0.36010943 0.34145735 0.38398408 0.44988809 0.46107933\n",
      " 0.45336981 0.43422034 0.47973141 0.45560806 0.45162895 0.45187764\n",
      " 0.46008456 0.45088286 0.45461328 0.44242726 0.43148471 0.41979607\n",
      " 0.44391942 0.44889331 0.44864462 0.44541159 0.45983586 0.47923402\n",
      " 0.48097488 0.458095   0.4536185  0.43745337 0.43919423 0.44342203\n",
      " 0.45734892 0.4449142  0.44292465 0.44093509 0.42899776 0.41357871\n",
      " 0.42626212 0.41904999 0.41258393 0.43060198 0.42809364 0.427167\n",
      " 0.42740753 0.42840305 0.42984185]\n",
      "6 day output [[0.4315181]]\n",
      "7 day input [0.15220095 0.14797314 0.15244964 0.14896792 0.14797314 0.15941308\n",
      " 0.16960955 0.18776424 0.18652077 0.17930863 0.18353643 0.1895051\n",
      " 0.19149465 0.20641631 0.19547376 0.21114151 0.21288237 0.21337976\n",
      " 0.20964934 0.20989804 0.20815717 0.20641631 0.19671723 0.19995026\n",
      " 0.19671723 0.20542154 0.21114151 0.20467545 0.20144243 0.17682169\n",
      " 0.17358866 0.18826163 0.19199204 0.20940065 0.20591893 0.21188759\n",
      " 0.21188759 0.2158667  0.22929619 0.23029097 0.23302661 0.23849789\n",
      " 0.29395673 0.31012186 0.30315842 0.31857747 0.33523999 0.33822432\n",
      " 0.36955981 0.39741358 0.38522756 0.35986073 0.35737379 0.34170604\n",
      " 0.36010943 0.34145735 0.38398408 0.44988809 0.46107933 0.45336981\n",
      " 0.43422034 0.47973141 0.45560806 0.45162895 0.45187764 0.46008456\n",
      " 0.45088286 0.45461328 0.44242726 0.43148471 0.41979607 0.44391942\n",
      " 0.44889331 0.44864462 0.44541159 0.45983586 0.47923402 0.48097488\n",
      " 0.458095   0.4536185  0.43745337 0.43919423 0.44342203 0.45734892\n",
      " 0.4449142  0.44292465 0.44093509 0.42899776 0.41357871 0.42626212\n",
      " 0.41904999 0.41258393 0.43060198 0.42809364 0.427167   0.42740753\n",
      " 0.42840305 0.42984185 0.43151811]\n",
      "7 day output [[0.4333072]]\n",
      "8 day input [0.14797314 0.15244964 0.14896792 0.14797314 0.15941308 0.16960955\n",
      " 0.18776424 0.18652077 0.17930863 0.18353643 0.1895051  0.19149465\n",
      " 0.20641631 0.19547376 0.21114151 0.21288237 0.21337976 0.20964934\n",
      " 0.20989804 0.20815717 0.20641631 0.19671723 0.19995026 0.19671723\n",
      " 0.20542154 0.21114151 0.20467545 0.20144243 0.17682169 0.17358866\n",
      " 0.18826163 0.19199204 0.20940065 0.20591893 0.21188759 0.21188759\n",
      " 0.2158667  0.22929619 0.23029097 0.23302661 0.23849789 0.29395673\n",
      " 0.31012186 0.30315842 0.31857747 0.33523999 0.33822432 0.36955981\n",
      " 0.39741358 0.38522756 0.35986073 0.35737379 0.34170604 0.36010943\n",
      " 0.34145735 0.38398408 0.44988809 0.46107933 0.45336981 0.43422034\n",
      " 0.47973141 0.45560806 0.45162895 0.45187764 0.46008456 0.45088286\n",
      " 0.45461328 0.44242726 0.43148471 0.41979607 0.44391942 0.44889331\n",
      " 0.44864462 0.44541159 0.45983586 0.47923402 0.48097488 0.458095\n",
      " 0.4536185  0.43745337 0.43919423 0.44342203 0.45734892 0.4449142\n",
      " 0.44292465 0.44093509 0.42899776 0.41357871 0.42626212 0.41904999\n",
      " 0.41258393 0.43060198 0.42809364 0.427167   0.42740753 0.42840305\n",
      " 0.42984185 0.43151811 0.4333072 ]\n",
      "8 day output [[0.43513647]]\n",
      "9 day input [0.15244964 0.14896792 0.14797314 0.15941308 0.16960955 0.18776424\n",
      " 0.18652077 0.17930863 0.18353643 0.1895051  0.19149465 0.20641631\n",
      " 0.19547376 0.21114151 0.21288237 0.21337976 0.20964934 0.20989804\n",
      " 0.20815717 0.20641631 0.19671723 0.19995026 0.19671723 0.20542154\n",
      " 0.21114151 0.20467545 0.20144243 0.17682169 0.17358866 0.18826163\n",
      " 0.19199204 0.20940065 0.20591893 0.21188759 0.21188759 0.2158667\n",
      " 0.22929619 0.23029097 0.23302661 0.23849789 0.29395673 0.31012186\n",
      " 0.30315842 0.31857747 0.33523999 0.33822432 0.36955981 0.39741358\n",
      " 0.38522756 0.35986073 0.35737379 0.34170604 0.36010943 0.34145735\n",
      " 0.38398408 0.44988809 0.46107933 0.45336981 0.43422034 0.47973141\n",
      " 0.45560806 0.45162895 0.45187764 0.46008456 0.45088286 0.45461328\n",
      " 0.44242726 0.43148471 0.41979607 0.44391942 0.44889331 0.44864462\n",
      " 0.44541159 0.45983586 0.47923402 0.48097488 0.458095   0.4536185\n",
      " 0.43745337 0.43919423 0.44342203 0.45734892 0.4449142  0.44292465\n",
      " 0.44093509 0.42899776 0.41357871 0.42626212 0.41904999 0.41258393\n",
      " 0.43060198 0.42809364 0.427167   0.42740753 0.42840305 0.42984185\n",
      " 0.43151811 0.4333072  0.43513647]\n",
      "9 day output [[0.43696383]]\n",
      "10 day input [0.14896792 0.14797314 0.15941308 0.16960955 0.18776424 0.18652077\n",
      " 0.17930863 0.18353643 0.1895051  0.19149465 0.20641631 0.19547376\n",
      " 0.21114151 0.21288237 0.21337976 0.20964934 0.20989804 0.20815717\n",
      " 0.20641631 0.19671723 0.19995026 0.19671723 0.20542154 0.21114151\n",
      " 0.20467545 0.20144243 0.17682169 0.17358866 0.18826163 0.19199204\n",
      " 0.20940065 0.20591893 0.21188759 0.21188759 0.2158667  0.22929619\n",
      " 0.23029097 0.23302661 0.23849789 0.29395673 0.31012186 0.30315842\n",
      " 0.31857747 0.33523999 0.33822432 0.36955981 0.39741358 0.38522756\n",
      " 0.35986073 0.35737379 0.34170604 0.36010943 0.34145735 0.38398408\n",
      " 0.44988809 0.46107933 0.45336981 0.43422034 0.47973141 0.45560806\n",
      " 0.45162895 0.45187764 0.46008456 0.45088286 0.45461328 0.44242726\n",
      " 0.43148471 0.41979607 0.44391942 0.44889331 0.44864462 0.44541159\n",
      " 0.45983586 0.47923402 0.48097488 0.458095   0.4536185  0.43745337\n",
      " 0.43919423 0.44342203 0.45734892 0.4449142  0.44292465 0.44093509\n",
      " 0.42899776 0.41357871 0.42626212 0.41904999 0.41258393 0.43060198\n",
      " 0.42809364 0.427167   0.42740753 0.42840305 0.42984185 0.43151811\n",
      " 0.4333072  0.43513647 0.43696383]\n",
      "10 day output [[0.43876398]]\n",
      "11 day input [0.14797314 0.15941308 0.16960955 0.18776424 0.18652077 0.17930863\n",
      " 0.18353643 0.1895051  0.19149465 0.20641631 0.19547376 0.21114151\n",
      " 0.21288237 0.21337976 0.20964934 0.20989804 0.20815717 0.20641631\n",
      " 0.19671723 0.19995026 0.19671723 0.20542154 0.21114151 0.20467545\n",
      " 0.20144243 0.17682169 0.17358866 0.18826163 0.19199204 0.20940065\n",
      " 0.20591893 0.21188759 0.21188759 0.2158667  0.22929619 0.23029097\n",
      " 0.23302661 0.23849789 0.29395673 0.31012186 0.30315842 0.31857747\n",
      " 0.33523999 0.33822432 0.36955981 0.39741358 0.38522756 0.35986073\n",
      " 0.35737379 0.34170604 0.36010943 0.34145735 0.38398408 0.44988809\n",
      " 0.46107933 0.45336981 0.43422034 0.47973141 0.45560806 0.45162895\n",
      " 0.45187764 0.46008456 0.45088286 0.45461328 0.44242726 0.43148471\n",
      " 0.41979607 0.44391942 0.44889331 0.44864462 0.44541159 0.45983586\n",
      " 0.47923402 0.48097488 0.458095   0.4536185  0.43745337 0.43919423\n",
      " 0.44342203 0.45734892 0.4449142  0.44292465 0.44093509 0.42899776\n",
      " 0.41357871 0.42626212 0.41904999 0.41258393 0.43060198 0.42809364\n",
      " 0.427167   0.42740753 0.42840305 0.42984185 0.43151811 0.4333072\n",
      " 0.43513647 0.43696383 0.43876398]\n",
      "11 day output [[0.44052017]]\n",
      "12 day input [0.15941308 0.16960955 0.18776424 0.18652077 0.17930863 0.18353643\n",
      " 0.1895051  0.19149465 0.20641631 0.19547376 0.21114151 0.21288237\n",
      " 0.21337976 0.20964934 0.20989804 0.20815717 0.20641631 0.19671723\n",
      " 0.19995026 0.19671723 0.20542154 0.21114151 0.20467545 0.20144243\n",
      " 0.17682169 0.17358866 0.18826163 0.19199204 0.20940065 0.20591893\n",
      " 0.21188759 0.21188759 0.2158667  0.22929619 0.23029097 0.23302661\n",
      " 0.23849789 0.29395673 0.31012186 0.30315842 0.31857747 0.33523999\n",
      " 0.33822432 0.36955981 0.39741358 0.38522756 0.35986073 0.35737379\n",
      " 0.34170604 0.36010943 0.34145735 0.38398408 0.44988809 0.46107933\n",
      " 0.45336981 0.43422034 0.47973141 0.45560806 0.45162895 0.45187764\n",
      " 0.46008456 0.45088286 0.45461328 0.44242726 0.43148471 0.41979607\n",
      " 0.44391942 0.44889331 0.44864462 0.44541159 0.45983586 0.47923402\n",
      " 0.48097488 0.458095   0.4536185  0.43745337 0.43919423 0.44342203\n",
      " 0.45734892 0.4449142  0.44292465 0.44093509 0.42899776 0.41357871\n",
      " 0.42626212 0.41904999 0.41258393 0.43060198 0.42809364 0.427167\n",
      " 0.42740753 0.42840305 0.42984185 0.43151811 0.4333072  0.43513647\n",
      " 0.43696383 0.43876398 0.44052017]\n",
      "12 day output [[0.44222054]]\n",
      "13 day input [0.16960955 0.18776424 0.18652077 0.17930863 0.18353643 0.1895051\n",
      " 0.19149465 0.20641631 0.19547376 0.21114151 0.21288237 0.21337976\n",
      " 0.20964934 0.20989804 0.20815717 0.20641631 0.19671723 0.19995026\n",
      " 0.19671723 0.20542154 0.21114151 0.20467545 0.20144243 0.17682169\n",
      " 0.17358866 0.18826163 0.19199204 0.20940065 0.20591893 0.21188759\n",
      " 0.21188759 0.2158667  0.22929619 0.23029097 0.23302661 0.23849789\n",
      " 0.29395673 0.31012186 0.30315842 0.31857747 0.33523999 0.33822432\n",
      " 0.36955981 0.39741358 0.38522756 0.35986073 0.35737379 0.34170604\n",
      " 0.36010943 0.34145735 0.38398408 0.44988809 0.46107933 0.45336981\n",
      " 0.43422034 0.47973141 0.45560806 0.45162895 0.45187764 0.46008456\n",
      " 0.45088286 0.45461328 0.44242726 0.43148471 0.41979607 0.44391942\n",
      " 0.44889331 0.44864462 0.44541159 0.45983586 0.47923402 0.48097488\n",
      " 0.458095   0.4536185  0.43745337 0.43919423 0.44342203 0.45734892\n",
      " 0.4449142  0.44292465 0.44093509 0.42899776 0.41357871 0.42626212\n",
      " 0.41904999 0.41258393 0.43060198 0.42809364 0.427167   0.42740753\n",
      " 0.42840305 0.42984185 0.43151811 0.4333072  0.43513647 0.43696383\n",
      " 0.43876398 0.44052017 0.44222054]\n",
      "13 day output [[0.4438574]]\n",
      "14 day input [0.18776424 0.18652077 0.17930863 0.18353643 0.1895051  0.19149465\n",
      " 0.20641631 0.19547376 0.21114151 0.21288237 0.21337976 0.20964934\n",
      " 0.20989804 0.20815717 0.20641631 0.19671723 0.19995026 0.19671723\n",
      " 0.20542154 0.21114151 0.20467545 0.20144243 0.17682169 0.17358866\n",
      " 0.18826163 0.19199204 0.20940065 0.20591893 0.21188759 0.21188759\n",
      " 0.2158667  0.22929619 0.23029097 0.23302661 0.23849789 0.29395673\n",
      " 0.31012186 0.30315842 0.31857747 0.33523999 0.33822432 0.36955981\n",
      " 0.39741358 0.38522756 0.35986073 0.35737379 0.34170604 0.36010943\n",
      " 0.34145735 0.38398408 0.44988809 0.46107933 0.45336981 0.43422034\n",
      " 0.47973141 0.45560806 0.45162895 0.45187764 0.46008456 0.45088286\n",
      " 0.45461328 0.44242726 0.43148471 0.41979607 0.44391942 0.44889331\n",
      " 0.44864462 0.44541159 0.45983586 0.47923402 0.48097488 0.458095\n",
      " 0.4536185  0.43745337 0.43919423 0.44342203 0.45734892 0.4449142\n",
      " 0.44292465 0.44093509 0.42899776 0.41357871 0.42626212 0.41904999\n",
      " 0.41258393 0.43060198 0.42809364 0.427167   0.42740753 0.42840305\n",
      " 0.42984185 0.43151811 0.4333072  0.43513647 0.43696383 0.43876398\n",
      " 0.44052017 0.44222054 0.4438574 ]\n",
      "14 day output [[0.44542545]]\n",
      "15 day input [0.18652077 0.17930863 0.18353643 0.1895051  0.19149465 0.20641631\n",
      " 0.19547376 0.21114151 0.21288237 0.21337976 0.20964934 0.20989804\n",
      " 0.20815717 0.20641631 0.19671723 0.19995026 0.19671723 0.20542154\n",
      " 0.21114151 0.20467545 0.20144243 0.17682169 0.17358866 0.18826163\n",
      " 0.19199204 0.20940065 0.20591893 0.21188759 0.21188759 0.2158667\n",
      " 0.22929619 0.23029097 0.23302661 0.23849789 0.29395673 0.31012186\n",
      " 0.30315842 0.31857747 0.33523999 0.33822432 0.36955981 0.39741358\n",
      " 0.38522756 0.35986073 0.35737379 0.34170604 0.36010943 0.34145735\n",
      " 0.38398408 0.44988809 0.46107933 0.45336981 0.43422034 0.47973141\n",
      " 0.45560806 0.45162895 0.45187764 0.46008456 0.45088286 0.45461328\n",
      " 0.44242726 0.43148471 0.41979607 0.44391942 0.44889331 0.44864462\n",
      " 0.44541159 0.45983586 0.47923402 0.48097488 0.458095   0.4536185\n",
      " 0.43745337 0.43919423 0.44342203 0.45734892 0.4449142  0.44292465\n",
      " 0.44093509 0.42899776 0.41357871 0.42626212 0.41904999 0.41258393\n",
      " 0.43060198 0.42809364 0.427167   0.42740753 0.42840305 0.42984185\n",
      " 0.43151811 0.4333072  0.43513647 0.43696383 0.43876398 0.44052017\n",
      " 0.44222054 0.4438574  0.44542545]\n",
      "15 day output [[0.44692236]]\n",
      "16 day input [0.17930863 0.18353643 0.1895051  0.19149465 0.20641631 0.19547376\n",
      " 0.21114151 0.21288237 0.21337976 0.20964934 0.20989804 0.20815717\n",
      " 0.20641631 0.19671723 0.19995026 0.19671723 0.20542154 0.21114151\n",
      " 0.20467545 0.20144243 0.17682169 0.17358866 0.18826163 0.19199204\n",
      " 0.20940065 0.20591893 0.21188759 0.21188759 0.2158667  0.22929619\n",
      " 0.23029097 0.23302661 0.23849789 0.29395673 0.31012186 0.30315842\n",
      " 0.31857747 0.33523999 0.33822432 0.36955981 0.39741358 0.38522756\n",
      " 0.35986073 0.35737379 0.34170604 0.36010943 0.34145735 0.38398408\n",
      " 0.44988809 0.46107933 0.45336981 0.43422034 0.47973141 0.45560806\n",
      " 0.45162895 0.45187764 0.46008456 0.45088286 0.45461328 0.44242726\n",
      " 0.43148471 0.41979607 0.44391942 0.44889331 0.44864462 0.44541159\n",
      " 0.45983586 0.47923402 0.48097488 0.458095   0.4536185  0.43745337\n",
      " 0.43919423 0.44342203 0.45734892 0.4449142  0.44292465 0.44093509\n",
      " 0.42899776 0.41357871 0.42626212 0.41904999 0.41258393 0.43060198\n",
      " 0.42809364 0.427167   0.42740753 0.42840305 0.42984185 0.43151811\n",
      " 0.4333072  0.43513647 0.43696383 0.43876398 0.44052017 0.44222054\n",
      " 0.4438574  0.44542545 0.44692236]\n",
      "16 day output [[0.44834858]]\n",
      "17 day input [0.18353643 0.1895051  0.19149465 0.20641631 0.19547376 0.21114151\n",
      " 0.21288237 0.21337976 0.20964934 0.20989804 0.20815717 0.20641631\n",
      " 0.19671723 0.19995026 0.19671723 0.20542154 0.21114151 0.20467545\n",
      " 0.20144243 0.17682169 0.17358866 0.18826163 0.19199204 0.20940065\n",
      " 0.20591893 0.21188759 0.21188759 0.2158667  0.22929619 0.23029097\n",
      " 0.23302661 0.23849789 0.29395673 0.31012186 0.30315842 0.31857747\n",
      " 0.33523999 0.33822432 0.36955981 0.39741358 0.38522756 0.35986073\n",
      " 0.35737379 0.34170604 0.36010943 0.34145735 0.38398408 0.44988809\n",
      " 0.46107933 0.45336981 0.43422034 0.47973141 0.45560806 0.45162895\n",
      " 0.45187764 0.46008456 0.45088286 0.45461328 0.44242726 0.43148471\n",
      " 0.41979607 0.44391942 0.44889331 0.44864462 0.44541159 0.45983586\n",
      " 0.47923402 0.48097488 0.458095   0.4536185  0.43745337 0.43919423\n",
      " 0.44342203 0.45734892 0.4449142  0.44292465 0.44093509 0.42899776\n",
      " 0.41357871 0.42626212 0.41904999 0.41258393 0.43060198 0.42809364\n",
      " 0.427167   0.42740753 0.42840305 0.42984185 0.43151811 0.4333072\n",
      " 0.43513647 0.43696383 0.43876398 0.44052017 0.44222054 0.4438574\n",
      " 0.44542545 0.44692236 0.44834858]\n",
      "17 day output [[0.44970626]]\n",
      "18 day input [0.1895051  0.19149465 0.20641631 0.19547376 0.21114151 0.21288237\n",
      " 0.21337976 0.20964934 0.20989804 0.20815717 0.20641631 0.19671723\n",
      " 0.19995026 0.19671723 0.20542154 0.21114151 0.20467545 0.20144243\n",
      " 0.17682169 0.17358866 0.18826163 0.19199204 0.20940065 0.20591893\n",
      " 0.21188759 0.21188759 0.2158667  0.22929619 0.23029097 0.23302661\n",
      " 0.23849789 0.29395673 0.31012186 0.30315842 0.31857747 0.33523999\n",
      " 0.33822432 0.36955981 0.39741358 0.38522756 0.35986073 0.35737379\n",
      " 0.34170604 0.36010943 0.34145735 0.38398408 0.44988809 0.46107933\n",
      " 0.45336981 0.43422034 0.47973141 0.45560806 0.45162895 0.45187764\n",
      " 0.46008456 0.45088286 0.45461328 0.44242726 0.43148471 0.41979607\n",
      " 0.44391942 0.44889331 0.44864462 0.44541159 0.45983586 0.47923402\n",
      " 0.48097488 0.458095   0.4536185  0.43745337 0.43919423 0.44342203\n",
      " 0.45734892 0.4449142  0.44292465 0.44093509 0.42899776 0.41357871\n",
      " 0.42626212 0.41904999 0.41258393 0.43060198 0.42809364 0.427167\n",
      " 0.42740753 0.42840305 0.42984185 0.43151811 0.4333072  0.43513647\n",
      " 0.43696383 0.43876398 0.44052017 0.44222054 0.4438574  0.44542545\n",
      " 0.44692236 0.44834858 0.44970626]\n",
      "18 day output [[0.45099932]]\n",
      "19 day input [0.19149465 0.20641631 0.19547376 0.21114151 0.21288237 0.21337976\n",
      " 0.20964934 0.20989804 0.20815717 0.20641631 0.19671723 0.19995026\n",
      " 0.19671723 0.20542154 0.21114151 0.20467545 0.20144243 0.17682169\n",
      " 0.17358866 0.18826163 0.19199204 0.20940065 0.20591893 0.21188759\n",
      " 0.21188759 0.2158667  0.22929619 0.23029097 0.23302661 0.23849789\n",
      " 0.29395673 0.31012186 0.30315842 0.31857747 0.33523999 0.33822432\n",
      " 0.36955981 0.39741358 0.38522756 0.35986073 0.35737379 0.34170604\n",
      " 0.36010943 0.34145735 0.38398408 0.44988809 0.46107933 0.45336981\n",
      " 0.43422034 0.47973141 0.45560806 0.45162895 0.45187764 0.46008456\n",
      " 0.45088286 0.45461328 0.44242726 0.43148471 0.41979607 0.44391942\n",
      " 0.44889331 0.44864462 0.44541159 0.45983586 0.47923402 0.48097488\n",
      " 0.458095   0.4536185  0.43745337 0.43919423 0.44342203 0.45734892\n",
      " 0.4449142  0.44292465 0.44093509 0.42899776 0.41357871 0.42626212\n",
      " 0.41904999 0.41258393 0.43060198 0.42809364 0.427167   0.42740753\n",
      " 0.42840305 0.42984185 0.43151811 0.4333072  0.43513647 0.43696383\n",
      " 0.43876398 0.44052017 0.44222054 0.4438574  0.44542545 0.44692236\n",
      " 0.44834858 0.44970626 0.45099932]\n",
      "19 day output [[0.45223382]]\n",
      "20 day input [0.20641631 0.19547376 0.21114151 0.21288237 0.21337976 0.20964934\n",
      " 0.20989804 0.20815717 0.20641631 0.19671723 0.19995026 0.19671723\n",
      " 0.20542154 0.21114151 0.20467545 0.20144243 0.17682169 0.17358866\n",
      " 0.18826163 0.19199204 0.20940065 0.20591893 0.21188759 0.21188759\n",
      " 0.2158667  0.22929619 0.23029097 0.23302661 0.23849789 0.29395673\n",
      " 0.31012186 0.30315842 0.31857747 0.33523999 0.33822432 0.36955981\n",
      " 0.39741358 0.38522756 0.35986073 0.35737379 0.34170604 0.36010943\n",
      " 0.34145735 0.38398408 0.44988809 0.46107933 0.45336981 0.43422034\n",
      " 0.47973141 0.45560806 0.45162895 0.45187764 0.46008456 0.45088286\n",
      " 0.45461328 0.44242726 0.43148471 0.41979607 0.44391942 0.44889331\n",
      " 0.44864462 0.44541159 0.45983586 0.47923402 0.48097488 0.458095\n",
      " 0.4536185  0.43745337 0.43919423 0.44342203 0.45734892 0.4449142\n",
      " 0.44292465 0.44093509 0.42899776 0.41357871 0.42626212 0.41904999\n",
      " 0.41258393 0.43060198 0.42809364 0.427167   0.42740753 0.42840305\n",
      " 0.42984185 0.43151811 0.4333072  0.43513647 0.43696383 0.43876398\n",
      " 0.44052017 0.44222054 0.4438574  0.44542545 0.44692236 0.44834858\n",
      " 0.44970626 0.45099932 0.45223382]\n",
      "20 day output [[0.45341623]]\n",
      "21 day input [0.19547376 0.21114151 0.21288237 0.21337976 0.20964934 0.20989804\n",
      " 0.20815717 0.20641631 0.19671723 0.19995026 0.19671723 0.20542154\n",
      " 0.21114151 0.20467545 0.20144243 0.17682169 0.17358866 0.18826163\n",
      " 0.19199204 0.20940065 0.20591893 0.21188759 0.21188759 0.2158667\n",
      " 0.22929619 0.23029097 0.23302661 0.23849789 0.29395673 0.31012186\n",
      " 0.30315842 0.31857747 0.33523999 0.33822432 0.36955981 0.39741358\n",
      " 0.38522756 0.35986073 0.35737379 0.34170604 0.36010943 0.34145735\n",
      " 0.38398408 0.44988809 0.46107933 0.45336981 0.43422034 0.47973141\n",
      " 0.45560806 0.45162895 0.45187764 0.46008456 0.45088286 0.45461328\n",
      " 0.44242726 0.43148471 0.41979607 0.44391942 0.44889331 0.44864462\n",
      " 0.44541159 0.45983586 0.47923402 0.48097488 0.458095   0.4536185\n",
      " 0.43745337 0.43919423 0.44342203 0.45734892 0.4449142  0.44292465\n",
      " 0.44093509 0.42899776 0.41357871 0.42626212 0.41904999 0.41258393\n",
      " 0.43060198 0.42809364 0.427167   0.42740753 0.42840305 0.42984185\n",
      " 0.43151811 0.4333072  0.43513647 0.43696383 0.43876398 0.44052017\n",
      " 0.44222054 0.4438574  0.44542545 0.44692236 0.44834858 0.44970626\n",
      " 0.45099932 0.45223382 0.45341623]\n",
      "21 day output [[0.45455417]]\n",
      "22 day input [0.21114151 0.21288237 0.21337976 0.20964934 0.20989804 0.20815717\n",
      " 0.20641631 0.19671723 0.19995026 0.19671723 0.20542154 0.21114151\n",
      " 0.20467545 0.20144243 0.17682169 0.17358866 0.18826163 0.19199204\n",
      " 0.20940065 0.20591893 0.21188759 0.21188759 0.2158667  0.22929619\n",
      " 0.23029097 0.23302661 0.23849789 0.29395673 0.31012186 0.30315842\n",
      " 0.31857747 0.33523999 0.33822432 0.36955981 0.39741358 0.38522756\n",
      " 0.35986073 0.35737379 0.34170604 0.36010943 0.34145735 0.38398408\n",
      " 0.44988809 0.46107933 0.45336981 0.43422034 0.47973141 0.45560806\n",
      " 0.45162895 0.45187764 0.46008456 0.45088286 0.45461328 0.44242726\n",
      " 0.43148471 0.41979607 0.44391942 0.44889331 0.44864462 0.44541159\n",
      " 0.45983586 0.47923402 0.48097488 0.458095   0.4536185  0.43745337\n",
      " 0.43919423 0.44342203 0.45734892 0.4449142  0.44292465 0.44093509\n",
      " 0.42899776 0.41357871 0.42626212 0.41904999 0.41258393 0.43060198\n",
      " 0.42809364 0.427167   0.42740753 0.42840305 0.42984185 0.43151811\n",
      " 0.4333072  0.43513647 0.43696383 0.43876398 0.44052017 0.44222054\n",
      " 0.4438574  0.44542545 0.44692236 0.44834858 0.44970626 0.45099932\n",
      " 0.45223382 0.45341623 0.45455417]\n",
      "22 day output [[0.4556549]]\n",
      "23 day input [0.21288237 0.21337976 0.20964934 0.20989804 0.20815717 0.20641631\n",
      " 0.19671723 0.19995026 0.19671723 0.20542154 0.21114151 0.20467545\n",
      " 0.20144243 0.17682169 0.17358866 0.18826163 0.19199204 0.20940065\n",
      " 0.20591893 0.21188759 0.21188759 0.2158667  0.22929619 0.23029097\n",
      " 0.23302661 0.23849789 0.29395673 0.31012186 0.30315842 0.31857747\n",
      " 0.33523999 0.33822432 0.36955981 0.39741358 0.38522756 0.35986073\n",
      " 0.35737379 0.34170604 0.36010943 0.34145735 0.38398408 0.44988809\n",
      " 0.46107933 0.45336981 0.43422034 0.47973141 0.45560806 0.45162895\n",
      " 0.45187764 0.46008456 0.45088286 0.45461328 0.44242726 0.43148471\n",
      " 0.41979607 0.44391942 0.44889331 0.44864462 0.44541159 0.45983586\n",
      " 0.47923402 0.48097488 0.458095   0.4536185  0.43745337 0.43919423\n",
      " 0.44342203 0.45734892 0.4449142  0.44292465 0.44093509 0.42899776\n",
      " 0.41357871 0.42626212 0.41904999 0.41258393 0.43060198 0.42809364\n",
      " 0.427167   0.42740753 0.42840305 0.42984185 0.43151811 0.4333072\n",
      " 0.43513647 0.43696383 0.43876398 0.44052017 0.44222054 0.4438574\n",
      " 0.44542545 0.44692236 0.44834858 0.44970626 0.45099932 0.45223382\n",
      " 0.45341623 0.45455417 0.45565489]\n",
      "23 day output [[0.45672655]]\n",
      "24 day input [0.21337976 0.20964934 0.20989804 0.20815717 0.20641631 0.19671723\n",
      " 0.19995026 0.19671723 0.20542154 0.21114151 0.20467545 0.20144243\n",
      " 0.17682169 0.17358866 0.18826163 0.19199204 0.20940065 0.20591893\n",
      " 0.21188759 0.21188759 0.2158667  0.22929619 0.23029097 0.23302661\n",
      " 0.23849789 0.29395673 0.31012186 0.30315842 0.31857747 0.33523999\n",
      " 0.33822432 0.36955981 0.39741358 0.38522756 0.35986073 0.35737379\n",
      " 0.34170604 0.36010943 0.34145735 0.38398408 0.44988809 0.46107933\n",
      " 0.45336981 0.43422034 0.47973141 0.45560806 0.45162895 0.45187764\n",
      " 0.46008456 0.45088286 0.45461328 0.44242726 0.43148471 0.41979607\n",
      " 0.44391942 0.44889331 0.44864462 0.44541159 0.45983586 0.47923402\n",
      " 0.48097488 0.458095   0.4536185  0.43745337 0.43919423 0.44342203\n",
      " 0.45734892 0.4449142  0.44292465 0.44093509 0.42899776 0.41357871\n",
      " 0.42626212 0.41904999 0.41258393 0.43060198 0.42809364 0.427167\n",
      " 0.42740753 0.42840305 0.42984185 0.43151811 0.4333072  0.43513647\n",
      " 0.43696383 0.43876398 0.44052017 0.44222054 0.4438574  0.44542545\n",
      " 0.44692236 0.44834858 0.44970626 0.45099932 0.45223382 0.45341623\n",
      " 0.45455417 0.45565489 0.45672655]\n",
      "24 day output [[0.45777622]]\n",
      "25 day input [0.20964934 0.20989804 0.20815717 0.20641631 0.19671723 0.19995026\n",
      " 0.19671723 0.20542154 0.21114151 0.20467545 0.20144243 0.17682169\n",
      " 0.17358866 0.18826163 0.19199204 0.20940065 0.20591893 0.21188759\n",
      " 0.21188759 0.2158667  0.22929619 0.23029097 0.23302661 0.23849789\n",
      " 0.29395673 0.31012186 0.30315842 0.31857747 0.33523999 0.33822432\n",
      " 0.36955981 0.39741358 0.38522756 0.35986073 0.35737379 0.34170604\n",
      " 0.36010943 0.34145735 0.38398408 0.44988809 0.46107933 0.45336981\n",
      " 0.43422034 0.47973141 0.45560806 0.45162895 0.45187764 0.46008456\n",
      " 0.45088286 0.45461328 0.44242726 0.43148471 0.41979607 0.44391942\n",
      " 0.44889331 0.44864462 0.44541159 0.45983586 0.47923402 0.48097488\n",
      " 0.458095   0.4536185  0.43745337 0.43919423 0.44342203 0.45734892\n",
      " 0.4449142  0.44292465 0.44093509 0.42899776 0.41357871 0.42626212\n",
      " 0.41904999 0.41258393 0.43060198 0.42809364 0.427167   0.42740753\n",
      " 0.42840305 0.42984185 0.43151811 0.4333072  0.43513647 0.43696383\n",
      " 0.43876398 0.44052017 0.44222054 0.4438574  0.44542545 0.44692236\n",
      " 0.44834858 0.44970626 0.45099932 0.45223382 0.45341623 0.45455417\n",
      " 0.45565489 0.45672655 0.45777622]\n",
      "25 day output [[0.4588114]]\n",
      "26 day input [0.20989804 0.20815717 0.20641631 0.19671723 0.19995026 0.19671723\n",
      " 0.20542154 0.21114151 0.20467545 0.20144243 0.17682169 0.17358866\n",
      " 0.18826163 0.19199204 0.20940065 0.20591893 0.21188759 0.21188759\n",
      " 0.2158667  0.22929619 0.23029097 0.23302661 0.23849789 0.29395673\n",
      " 0.31012186 0.30315842 0.31857747 0.33523999 0.33822432 0.36955981\n",
      " 0.39741358 0.38522756 0.35986073 0.35737379 0.34170604 0.36010943\n",
      " 0.34145735 0.38398408 0.44988809 0.46107933 0.45336981 0.43422034\n",
      " 0.47973141 0.45560806 0.45162895 0.45187764 0.46008456 0.45088286\n",
      " 0.45461328 0.44242726 0.43148471 0.41979607 0.44391942 0.44889331\n",
      " 0.44864462 0.44541159 0.45983586 0.47923402 0.48097488 0.458095\n",
      " 0.4536185  0.43745337 0.43919423 0.44342203 0.45734892 0.4449142\n",
      " 0.44292465 0.44093509 0.42899776 0.41357871 0.42626212 0.41904999\n",
      " 0.41258393 0.43060198 0.42809364 0.427167   0.42740753 0.42840305\n",
      " 0.42984185 0.43151811 0.4333072  0.43513647 0.43696383 0.43876398\n",
      " 0.44052017 0.44222054 0.4438574  0.44542545 0.44692236 0.44834858\n",
      " 0.44970626 0.45099932 0.45223382 0.45341623 0.45455417 0.45565489\n",
      " 0.45672655 0.45777622 0.4588114 ]\n",
      "26 day output [[0.4598382]]\n",
      "27 day input [0.20815717 0.20641631 0.19671723 0.19995026 0.19671723 0.20542154\n",
      " 0.21114151 0.20467545 0.20144243 0.17682169 0.17358866 0.18826163\n",
      " 0.19199204 0.20940065 0.20591893 0.21188759 0.21188759 0.2158667\n",
      " 0.22929619 0.23029097 0.23302661 0.23849789 0.29395673 0.31012186\n",
      " 0.30315842 0.31857747 0.33523999 0.33822432 0.36955981 0.39741358\n",
      " 0.38522756 0.35986073 0.35737379 0.34170604 0.36010943 0.34145735\n",
      " 0.38398408 0.44988809 0.46107933 0.45336981 0.43422034 0.47973141\n",
      " 0.45560806 0.45162895 0.45187764 0.46008456 0.45088286 0.45461328\n",
      " 0.44242726 0.43148471 0.41979607 0.44391942 0.44889331 0.44864462\n",
      " 0.44541159 0.45983586 0.47923402 0.48097488 0.458095   0.4536185\n",
      " 0.43745337 0.43919423 0.44342203 0.45734892 0.4449142  0.44292465\n",
      " 0.44093509 0.42899776 0.41357871 0.42626212 0.41904999 0.41258393\n",
      " 0.43060198 0.42809364 0.427167   0.42740753 0.42840305 0.42984185\n",
      " 0.43151811 0.4333072  0.43513647 0.43696383 0.43876398 0.44052017\n",
      " 0.44222054 0.4438574  0.44542545 0.44692236 0.44834858 0.44970626\n",
      " 0.45099932 0.45223382 0.45341623 0.45455417 0.45565489 0.45672655\n",
      " 0.45777622 0.4588114  0.45983821]\n",
      "27 day output [[0.46086255]]\n",
      "28 day input [0.20641631 0.19671723 0.19995026 0.19671723 0.20542154 0.21114151\n",
      " 0.20467545 0.20144243 0.17682169 0.17358866 0.18826163 0.19199204\n",
      " 0.20940065 0.20591893 0.21188759 0.21188759 0.2158667  0.22929619\n",
      " 0.23029097 0.23302661 0.23849789 0.29395673 0.31012186 0.30315842\n",
      " 0.31857747 0.33523999 0.33822432 0.36955981 0.39741358 0.38522756\n",
      " 0.35986073 0.35737379 0.34170604 0.36010943 0.34145735 0.38398408\n",
      " 0.44988809 0.46107933 0.45336981 0.43422034 0.47973141 0.45560806\n",
      " 0.45162895 0.45187764 0.46008456 0.45088286 0.45461328 0.44242726\n",
      " 0.43148471 0.41979607 0.44391942 0.44889331 0.44864462 0.44541159\n",
      " 0.45983586 0.47923402 0.48097488 0.458095   0.4536185  0.43745337\n",
      " 0.43919423 0.44342203 0.45734892 0.4449142  0.44292465 0.44093509\n",
      " 0.42899776 0.41357871 0.42626212 0.41904999 0.41258393 0.43060198\n",
      " 0.42809364 0.427167   0.42740753 0.42840305 0.42984185 0.43151811\n",
      " 0.4333072  0.43513647 0.43696383 0.43876398 0.44052017 0.44222054\n",
      " 0.4438574  0.44542545 0.44692236 0.44834858 0.44970626 0.45099932\n",
      " 0.45223382 0.45341623 0.45455417 0.45565489 0.45672655 0.45777622\n",
      " 0.4588114  0.45983821 0.46086255]\n",
      "28 day output [[0.46188968]]\n",
      "29 day input [0.19671723 0.19995026 0.19671723 0.20542154 0.21114151 0.20467545\n",
      " 0.20144243 0.17682169 0.17358866 0.18826163 0.19199204 0.20940065\n",
      " 0.20591893 0.21188759 0.21188759 0.2158667  0.22929619 0.23029097\n",
      " 0.23302661 0.23849789 0.29395673 0.31012186 0.30315842 0.31857747\n",
      " 0.33523999 0.33822432 0.36955981 0.39741358 0.38522756 0.35986073\n",
      " 0.35737379 0.34170604 0.36010943 0.34145735 0.38398408 0.44988809\n",
      " 0.46107933 0.45336981 0.43422034 0.47973141 0.45560806 0.45162895\n",
      " 0.45187764 0.46008456 0.45088286 0.45461328 0.44242726 0.43148471\n",
      " 0.41979607 0.44391942 0.44889331 0.44864462 0.44541159 0.45983586\n",
      " 0.47923402 0.48097488 0.458095   0.4536185  0.43745337 0.43919423\n",
      " 0.44342203 0.45734892 0.4449142  0.44292465 0.44093509 0.42899776\n",
      " 0.41357871 0.42626212 0.41904999 0.41258393 0.43060198 0.42809364\n",
      " 0.427167   0.42740753 0.42840305 0.42984185 0.43151811 0.4333072\n",
      " 0.43513647 0.43696383 0.43876398 0.44052017 0.44222054 0.4438574\n",
      " 0.44542545 0.44692236 0.44834858 0.44970626 0.45099932 0.45223382\n",
      " 0.45341623 0.45455417 0.45565489 0.45672655 0.45777622 0.4588114\n",
      " 0.45983821 0.46086255 0.46188968]\n",
      "29 day output [[0.46292377]]\n",
      "[[0.43060198426246643], [0.42809364199638367], [0.42716699838638306], [0.42740753293037415], [0.4284030497074127], [0.4298418462276459], [0.4315181076526642], [0.4333072006702423], [0.43513646721839905], [0.436963826417923], [0.43876397609710693], [0.44052016735076904], [0.442220538854599], [0.4438574016094208], [0.44542545080184937], [0.4469223618507385], [0.4483485817909241], [0.4497062563896179], [0.45099931955337524], [0.45223382115364075], [0.45341622829437256], [0.45455417037010193], [0.45565488934516907], [0.4567265510559082], [0.4577762186527252], [0.4588114023208618], [0.45983821153640747], [0.46086254715919495], [0.46188968420028687], [0.4629237651824951]]\n"
     ]
    }
   ],
   "source": [
    "# demonstrate prediction for next 10 days\n",
    "from numpy import array\n",
    "\n",
    "lst_output=[]\n",
    "n_steps=99\n",
    "i=0\n",
    "while(i<30):\n",
    "    \n",
    "    if(len(temp_input)>99):\n",
    "        #print(temp_input)\n",
    "        x_input=np.array(temp_input[1:])\n",
    "        print(\"{} day input {}\".format(i,x_input))\n",
    "        x_input=x_input.reshape(1,-1)\n",
    "        x_input = x_input.reshape((1, n_steps, 1))\n",
    "        #print(x_input)\n",
    "        yhat = model.predict(x_input, verbose=0)\n",
    "        print(\"{} day output {}\".format(i,yhat))\n",
    "        temp_input.extend(yhat[0].tolist())\n",
    "        temp_input=temp_input[1:]\n",
    "        #print(temp_input)\n",
    "        lst_output.extend(yhat.tolist())\n",
    "        i=i+1\n",
    "    else:\n",
    "        x_input = x_input.reshape((1, n_steps,1))\n",
    "        yhat = model.predict(x_input, verbose=0)\n",
    "        print(yhat[0])\n",
    "        temp_input.extend(yhat[0].tolist())\n",
    "        print(len(temp_input))\n",
    "        lst_output.extend(yhat.tolist())\n",
    "        i=i+1\n",
    "    \n",
    "\n",
    "print(lst_output)"
   ]
  },
  {
   "cell_type": "code",
   "execution_count": null,
   "metadata": {
    "id": "plwBLaSrSBi0"
   },
   "outputs": [],
   "source": [
    "day_new=np.arange(1,101)\n",
    "day_pred=np.arange(101,131)"
   ]
  },
  {
   "cell_type": "code",
   "execution_count": null,
   "metadata": {
    "id": "gBsNk1ufSBi0"
   },
   "outputs": [],
   "source": [
    "import matplotlib.pyplot as plt"
   ]
  },
  {
   "cell_type": "code",
   "execution_count": null,
   "metadata": {
    "colab": {
     "base_uri": "https://localhost:8080/"
    },
    "id": "IRPzEGukSBi1",
    "outputId": "86c5aa6a-131f-4090-fa9f-975570fb4a9b"
   },
   "outputs": [
    {
     "data": {
      "text/plain": [
       "1257"
      ]
     },
     "execution_count": 47,
     "metadata": {
      "tags": []
     },
     "output_type": "execute_result"
    }
   ],
   "source": [
    "len(df1)"
   ]
  },
  {
   "cell_type": "code",
   "execution_count": null,
   "metadata": {
    "colab": {
     "base_uri": "https://localhost:8080/",
     "height": 543
    },
    "id": "aO148uUiSBi2",
    "outputId": "440e1788-5c0e-4178-86cc-1c5e2cc8f23d"
   },
   "outputs": [
    {
     "data": {
      "text/plain": [
       "[<matplotlib.lines.Line2D at 0x7f15bab2f990>]"
      ]
     },
     "execution_count": 56,
     "metadata": {
      "tags": []
     },
     "output_type": "execute_result"
    },
    {
     "data": {
      "image/png": "[encoded data removed]",
      "text/plain": [
       "<Figure size 1152x576 with 1 Axes>"
      ]
     },
     "metadata": {
      "needs_background": "light",
      "tags": []
     },
     "output_type": "display_data"
    }
   ],
   "source": [
    "plt.figure(figsize=(16,8))\n",
    "plt.title('Future Price Prediction', fontsize=20)\n",
    "plt.xlabel('Days',fontsize=18)\n",
    "plt.ylabel('Close Price USD $',fontsize=18)\n",
    "plt.plot(day_new,scaler.inverse_transform(df1[1157:]))\n",
    "plt.plot(day_pred,scaler.inverse_transform(lst_output))"
   ]
  },
  {
   "cell_type": "code",
   "execution_count": null,
   "metadata": {
    "colab": {
     "base_uri": "https://localhost:8080/",
     "height": 543
    },
    "id": "Pr72-S6HSBi2",
    "outputId": "16fe4971-09b1-4061-97fa-662a98c01b30"
   },
   "outputs": [
    {
     "data": {
      "text/plain": [
       "[<matplotlib.lines.Line2D at 0x7f15babdd450>]"
      ]
     },
     "execution_count": 54,
     "metadata": {
      "tags": []
     },
     "output_type": "execute_result"
    },
    {
     "data": {
      "image/png": "[encoded data removed]",
      "text/plain": [
       "<Figure size 1152x576 with 1 Axes>"
      ]
     },
     "metadata": {
      "needs_background": "light",
      "tags": []
     },
     "output_type": "display_data"
    }
   ],
   "source": [
    "df3=df1.tolist()\n",
    "df3.extend(lst_output)\n",
    "plt.figure(figsize=(16,8))\n",
    "plt.title('Future Price Prediction Combined', fontsize=20)\n",
    "plt.xlabel('Days',fontsize=18)\n",
    "plt.ylabel('Close Price USD $',fontsize=18)\n",
    "plt.plot(df3[1200:])"
   ]
  },
  {
   "cell_type": "code",
   "execution_count": null,
   "metadata": {
    "id": "MaKAkrGkSBi2"
   },
   "outputs": [],
   "source": [
    "df3=scaler.inverse_transform(df3).tolist()"
   ]
  },
  {
   "cell_type": "code",
   "execution_count": null,
   "metadata": {
    "colab": {
     "base_uri": "https://localhost:8080/",
     "height": 543
    },
    "id": "s4kzQqvmSBi2",
    "outputId": "0efed0ab-82a4-43e1-cc0f-adef91f781a3"
   },
   "outputs": [
    {
     "data": {
      "text/plain": [
       "[<matplotlib.lines.Line2D at 0x7f15babbca90>]"
      ]
     },
     "execution_count": 55,
     "metadata": {
      "tags": []
     },
     "output_type": "execute_result"
    },
    {
     "data": {
      "image/png": "[encoded data removed]",
      "text/plain": [
       "<Figure size 1152x576 with 1 Axes>"
      ]
     },
     "metadata": {
      "needs_background": "light",
      "tags": []
     },
     "output_type": "display_data"
    }
   ],
   "source": [
    "plt.figure(figsize=(16,8))\n",
    "plt.title('Final look at Future Price Prediction', fontsize=20)\n",
    "plt.xlabel('Days',fontsize=18)\n",
    "plt.ylabel('Close Price USD $',fontsize=18)\n",
    "plt.plot(df3)"
   ]
  },
  {
   "cell_type": "code",
   "execution_count": null,
   "metadata": {
    "id": "KaL_PqGDSBi4"
   },
   "outputs": [],
   "source": []
  }
 ],
 "metadata": {
  "colab": {
   "name": "SLSTM.ipynb",
   "provenance": [],
   "toc_visible": true
  },
  "kernelspec": {
   "display_name": "Python 3",
   "language": "python",
   "name": "python3"
  },
  "language_info": {
   "codemirror_mode": {
    "name": "ipython",
    "version": 3
   },
   "file_extension": ".py",
   "mimetype": "text/x-python",
   "name": "python",
   "nbconvert_exporter": "python",
   "pygments_lexer": "ipython3",
   "version": "3.8.3"
  }
 },
 "nbformat": 4,
 "nbformat_minor": 1
}
